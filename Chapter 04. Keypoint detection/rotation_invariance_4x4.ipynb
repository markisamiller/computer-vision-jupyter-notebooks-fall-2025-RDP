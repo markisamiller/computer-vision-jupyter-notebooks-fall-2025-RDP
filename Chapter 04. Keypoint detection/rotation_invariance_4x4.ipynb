{
 "cells": [
  {
   "cell_type": "markdown",
   "id": "4192aa33",
   "metadata": {},
   "source": [
    "# Rotation Invariance of Corner Detection (4x4 Example)\n",
    "\n",
    "This notebook demonstrates that the **eigenvalues of the structure tensor** (used in corner detection)\n",
    "are invariant to image rotation. We use a very simple **4×4 image** with a bright 2×2 block in the top-left corner.\n"
   ]
  },
  {
   "cell_type": "code",
   "execution_count": 1,
   "id": "36eef827",
   "metadata": {},
   "outputs": [],
   "source": [
    "import numpy as np\n",
    "import matplotlib.pyplot as plt\n",
    "import pandas as pd\n",
    "\n",
    "# Sobel filters\n",
    "Sx = np.array([[-1, 0, 1],\n",
    "               [-2, 0, 2],\n",
    "               [-1, 0, 1]], dtype=float)\n",
    "Sy = np.array([[-1,-2,-1],\n",
    "               [ 0, 0, 0],\n",
    "               [ 1, 2, 1]], dtype=float)\n",
    "\n",
    "def conv2d(img, k):\n",
    "    H, W = img.shape\n",
    "    out = np.zeros_like(img, dtype=float)\n",
    "    pad = 1\n",
    "    P = np.pad(img, ((pad,pad),(pad,pad)), mode='constant', constant_values=0.0)\n",
    "    for r in range(H):\n",
    "        for c in range(W):\n",
    "            out[r,c] = np.sum(P[r:r+3, c:c+3] * k)\n",
    "    return out\n",
    "\n",
    "def structure_tensor(Ix, Iy, r0=1, c0=1, h=2, w=2):\n",
    "    win_x = Ix[r0:r0+h, c0:c0+w]\n",
    "    win_y = Iy[r0:r0+h, c0:c0+w]\n",
    "    Sxx = np.sum(win_x**2)\n",
    "    Syy = np.sum(win_y**2)\n",
    "    Sxy = np.sum(win_x*win_y)\n",
    "    M = np.array([[Sxx, Sxy],\n",
    "                  [Sxy, Syy]], dtype=float)\n",
    "    return M\n"
   ]
  },
  {
   "cell_type": "code",
   "execution_count": 2,
   "id": "fcd6e589",
   "metadata": {},
   "outputs": [
    {
     "data": {
      "image/png": "[encoded data removed]",
      "text/plain": [
       "<Figure size 640x480 with 1 Axes>"
      ]
     },
     "metadata": {},
     "output_type": "display_data"
    },
    {
     "name": "stdout",
     "output_type": "stream",
     "text": [
      "Original image matrix:\n",
      " [[255 255   0   0]\n",
      " [255 255   0   0]\n",
      " [  0   0   0   0]\n",
      " [  0   0   0   0]]\n"
     ]
    }
   ],
   "source": [
    "# Original 4x4 image with a bright 2x2 block in top-left\n",
    "I = np.array([[255, 255,   0,   0],\n",
    "              [255, 255,   0,   0],\n",
    "              [  0,   0,   0,   0],\n",
    "              [  0,   0,   0,   0]], dtype=float)\n",
    "\n",
    "plt.imshow(I, cmap='gray', vmin=0, vmax=255)\n",
    "plt.title(\"Original 4x4 image\")\n",
    "plt.axis(\"off\")\n",
    "plt.show()\n",
    "\n",
    "print(\"Original image matrix:\\n\", I.astype(int))\n"
   ]
  },
  {
   "cell_type": "code",
   "execution_count": 3,
   "id": "24b6c222",
   "metadata": {},
   "outputs": [
    {
     "name": "stdout",
     "output_type": "stream",
     "text": [
      "Ix (original):\n",
      " [[ 765 -765 -765    0]\n",
      " [ 765 -765 -765    0]\n",
      " [ 255 -255 -255    0]\n",
      " [   0    0    0    0]]\n",
      "\n",
      "Iy (original):\n",
      " [[ 765  765  255    0]\n",
      " [-765 -765 -255    0]\n",
      " [-765 -765 -255    0]\n",
      " [   0    0    0    0]]\n",
      "\n",
      "Structure tensor M (original):\n",
      " [[1300500 1040400]\n",
      " [1040400 1300500]]\n",
      "\n",
      "Eigenvalues (original): [ 260100. 2340900.]\n",
      "Eigenvectors (columns, original):\n",
      " [[ 0.70710678 -0.70710678]\n",
      " [ 0.70710678  0.70710678]]\n"
     ]
    }
   ],
   "source": [
    "Ix = conv2d(I, Sx)\n",
    "Iy = conv2d(I, Sy)\n",
    "M = structure_tensor(Ix, Iy)\n",
    "\n",
    "evals, evecs = np.linalg.eig(M)\n",
    "\n",
    "print(\"Ix (original):\\n\", Ix.astype(int))\n",
    "print(\"\\nIy (original):\\n\", Iy.astype(int))\n",
    "print(\"\\nStructure tensor M (original):\\n\", M.astype(int))\n",
    "print(\"\\nEigenvalues (original):\", np.sort(evals))\n",
    "print(\"Eigenvectors (columns, original):\\n\", evecs)\n"
   ]
  },
  {
   "cell_type": "code",
   "execution_count": 4,
   "id": "434349e5",
   "metadata": {},
   "outputs": [
    {
     "data": {
      "image/png": "[encoded data removed]",
      "text/plain": [
       "<Figure size 640x480 with 1 Axes>"
      ]
     },
     "metadata": {},
     "output_type": "display_data"
    },
    {
     "name": "stdout",
     "output_type": "stream",
     "text": [
      "Rotated image matrix:\n",
      " [[  0   0   0   0]\n",
      " [  0   0   0   0]\n",
      " [255 255   0   0]\n",
      " [255 255   0   0]]\n"
     ]
    }
   ],
   "source": [
    "I_rot = np.rot90(I)\n",
    "plt.imshow(I_rot, cmap='gray', vmin=0, vmax=255)\n",
    "plt.title(\"Rotated 90° CCW\")\n",
    "plt.axis(\"off\")\n",
    "plt.show()\n",
    "\n",
    "print(\"Rotated image matrix:\\n\", I_rot.astype(int))\n"
   ]
  },
  {
   "cell_type": "code",
   "execution_count": 5,
   "id": "9adeaa8b",
   "metadata": {},
   "outputs": [
    {
     "name": "stdout",
     "output_type": "stream",
     "text": [
      "Ix (rotated):\n",
      " [[   0    0    0    0]\n",
      " [ 255 -255 -255    0]\n",
      " [ 765 -765 -765    0]\n",
      " [ 765 -765 -765    0]]\n",
      "\n",
      "Iy (rotated):\n",
      " [[   0    0    0    0]\n",
      " [ 765  765  255    0]\n",
      " [ 765  765  255    0]\n",
      " [-765 -765 -255    0]]\n",
      "\n",
      "Structure tensor M_rot (rotated):\n",
      " [[ 1300500 -1040400]\n",
      " [-1040400  1300500]]\n",
      "\n",
      "Eigenvalues (rotated): [ 260100. 2340900.]\n",
      "Eigenvectors (columns, rotated):\n",
      " [[ 0.70710678  0.70710678]\n",
      " [-0.70710678  0.70710678]]\n",
      "\n",
      "Do eigenvalues match (rotation invariance)? True\n"
     ]
    }
   ],
   "source": [
    "Ix_r = conv2d(I_rot, Sx)\n",
    "Iy_r = conv2d(I_rot, Sy)\n",
    "M_r = structure_tensor(Ix_r, Iy_r)\n",
    "\n",
    "evals_r, evecs_r = np.linalg.eig(M_r)\n",
    "\n",
    "print(\"Ix (rotated):\\n\", Ix_r.astype(int))\n",
    "print(\"\\nIy (rotated):\\n\", Iy_r.astype(int))\n",
    "print(\"\\nStructure tensor M_rot (rotated):\\n\", M_r.astype(int))\n",
    "print(\"\\nEigenvalues (rotated):\", np.sort(evals_r))\n",
    "print(\"Eigenvectors (columns, rotated):\\n\", evecs_r)\n",
    "\n",
    "print(\"\\nDo eigenvalues match (rotation invariance)?\",\n",
    "      np.allclose(np.sort(evals), np.sort(evals_r), rtol=1e-9, atol=1e-12))\n"
   ]
  }
 ],
 "metadata": {
  "kernelspec": {
   "display_name": "aida2154_python_env",
   "language": "python",
   "name": "python3"
  },
  "language_info": {
   "codemirror_mode": {
    "name": "ipython",
    "version": 3
   },
   "file_extension": ".py",
   "mimetype": "text/x-python",
   "name": "python",
   "nbconvert_exporter": "python",
   "pygments_lexer": "ipython3",
   "version": "3.13.5"
  }
 },
 "nbformat": 4,
 "nbformat_minor": 5
}
