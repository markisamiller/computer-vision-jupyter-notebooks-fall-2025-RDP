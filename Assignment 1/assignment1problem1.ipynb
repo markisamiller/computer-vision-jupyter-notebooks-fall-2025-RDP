{
 "cells": [
  {
   "cell_type": "markdown",
   "id": "66950eb0",
   "metadata": {},
   "source": [
    "### Assignment 1 Problem 3"
   ]
  },
  {
   "cell_type": "code",
   "execution_count": 3,
   "id": "fc8e987a",
   "metadata": {},
   "outputs": [],
   "source": [
    "import numpy as np\n",
    "import cv2\n",
    "import matplotlib.pyplot as plt\n",
    "import matplotlib\n",
    "from ipywidgets import interactive, fixed, widgets\n",
    "matplotlib.rcParams['figure.figsize'] = (20.0, 20.0)\n",
    "\n",
    "images_path = './images/'"
   ]
  },
  {
   "cell_type": "markdown",
   "id": "102b5ab5",
   "metadata": {},
   "source": [
    "## 2.3.1 Non-linear look-up tables\n",
    "\n",
    "**Gamma** or **gamma correction** \n",
    "\n",
    "Gamma correction, or often simply gamma, is a nonlinear operation used to encode and decode luminance or tristimulus values in video or still image systems. In other words, it is the result of applying an (already defined) **non-linear LUT** in order to stretch or shrink image intensities.\n",
    "\n",
    "In this way, the gamma LUT definition for grayscale images ($i \\in [0 \\dots 255]$):\n",
    "\n",
    "$$LUT(i) = (\\frac{i}{255})^{\\gamma} * 255, \\ \\gamma \\gt 0 $$\n",
    "\n",
    "The following images illustrate the application of gamma correction for different values of $\\gamma$.\n",
    "\n",
    "<img src=\"./images/gamma_theory.jpg\" width=\"800\" >"
   ]
  },
  {
   "cell_type": "markdown",
   "id": "5450dcb9",
   "metadata": {},
   "source": [
    "### **<span style=\"color:green\"><b><i>ASSIGNMENT 1 PROBLEM 3: Applying non-linear LUTs</i></b></span>**\n",
    "\n",
    "Your task is to develop the `lut_chart()` function, which takes as arguments the image to be enhanced and a gamma value for building the non-linear LUT. It will also display a chart containing the original image, the gamma-corrected one, the used LUT and the histogram of the resulting image.\n",
    "\n",
    "As users from UMA will use color images, you will have to **implement it for color images**. This can be done by:\n",
    "1. **transforming** a image in the BGR color space **to the YCrCb one**,\n",
    "2. then, **applying gamma LUT only to first band** of the in the YCrCb space (that's because it contains pixel intensities and you can handle it like a gray image),\n",
    "3. and finally, as matplotlib displays RGB images (if verbose is True), it should be **converted back**. Also, return the resultant image."
   ]
  },
  {
   "cell_type": "code",
   "execution_count": null,
   "id": "55b9e2bb",
   "metadata": {},
   "outputs": [],
   "source": [
    "# ASSIGNMENT 1: Problem 1\n",
    "# Implement a function that:\n",
    "# -- converts the input image from the BGR to the YCrCb color space\n",
    "# -- creates the gamma LUT\n",
    "# -- applies the LUT to the original image\n",
    "# -- displays in a 2x2 plot: the input image, the gamma-corrected one, the applied LUT and the resultant histogram if verbose = True\n",
    "def lut_chart(image, gamma, verbose=False):\n",
    "    \"\"\" Applies gamma correction to an image and shows the result.   \n",
    "    \n",
    "        Args:\n",
    "            image: Input image\n",
    "            gamma: Gamma parameter\n",
    "            verbose: Only show images if this is True\n",
    "            \n",
    "        Returns:\n",
    "            out_image: Gamma image\n",
    "    \"\"\"\n",
    "    \n",
    "    #Transform image to YCrCb color space\n",
    "    ycrcb = cv2.cvtColor(image, cv2.COLOR_BGR2YCrCb)\n",
    "    y, cr, cb = cv2.split(ycrcb)\n",
    "    # Define gamma correction LUT\n",
    "    lut = np.array([((i / 255.0) ** gamma) * 255 for i in range(256)], dtype=np.uint8)\n",
    "\n",
    "    # Apply LUT to first band of the YCrCb image\n",
    "    y = cv2.LUT(y, lut)\n",
    "    ycrcb = cv2.merge((y, cr, cb))\n",
    "    out_image = cv2.cvtColor(ycrcb, cv2.COLOR_YCrCb2BGR)\n",
    "\n",
    "    \n",
    "    if verbose:\n",
    "        # Plot used LUT\n",
    "        plt.subplot(2, 2, 1)\n",
    "        plt.plot(lut, color='r')\n",
    "        plt.title('Gamma LUT')\n",
    "        plt.xlim([0, 255])\n",
    "        plt.ylim([0, 255])\n",
    "        plt.grid()\n",
    "\n",
    "        # Plot histogram of gray image\n",
    "        plt.subplot(2, 2, 2)\n",
    "        plt.hist(y.flatten(), 256, [0, 256], color='gray')\n",
    "        plt.title('Histogram (Y channel)')\n",
    "        plt.xlim([0, 255])\n",
    "        plt.ylim([0, 255])\n",
    "        plt.grid()\n",
    "\n",
    "        # Reconvert image to RGB\n",
    "        out_image = cv2.cvtColor(ycrcb, cv2.COLOR_YCrCb2BGR)\n",
    "\n",
    "        # Show the initial image\n",
    "        plt.subplot(2, 2, 3)\n",
    "        plt.imshow(cv2.cvtColor(image, cv2.COLOR_BGR2RGB))\n",
    "        plt.title('Original Image')\n",
    "        plt.axis('off')\n",
    "\n",
    "        # Show the resultant one\n",
    "        plt.subplot(2, 2, 4)\n",
    "        plt.imshow(cv2.cvtColor(out_image, cv2.COLOR_BGR2RGB))\n",
    "        plt.title('Gamma Corrected Image')\n",
    "        plt.axis('off')\n",
    "\n",
    "        plt.show()\n",
    "\n",
    "    return out_image\n",
    "        "
   ]
  },
  {
   "cell_type": "code",
   "execution_count": null,
   "id": "d1f5724d",
   "metadata": {},
   "outputs": [],
   "source": [
    "# ASSIGNMENT 1 Problem 1 SOLUTION\n",
    "\n",
    "# Your code goeas here"
   ]
  }
 ],
 "metadata": {
  "kernelspec": {
   "display_name": "aida2154_python_env",
   "language": "python",
   "name": "python3"
  },
  "language_info": {
   "codemirror_mode": {
    "name": "ipython",
    "version": 3
   },
   "file_extension": ".py",
   "mimetype": "text/x-python",
   "name": "python",
   "nbconvert_exporter": "python",
   "pygments_lexer": "ipython3",
   "version": "3.13.5"
  }
 },
 "nbformat": 4,
 "nbformat_minor": 5
}
