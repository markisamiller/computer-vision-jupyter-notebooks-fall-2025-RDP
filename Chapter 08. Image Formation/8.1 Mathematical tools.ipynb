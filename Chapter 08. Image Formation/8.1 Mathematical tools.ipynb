{
 "cells": [
  {
   "cell_type": "markdown",
   "metadata": {},
   "source": [
    "# 8.1 Mathematical tools for image formation\n",
    "\n",
    "Image formation is the process of projecting the elements appearing in a **3D scene** (objects, surfaces, landscapes, etc.) on the **2D image plane**. Such 3D scene could be:\n",
    "\n",
    "- the real world captured by a camera, \n",
    "- a videogame engine transforming the 3D virtual enviroment to images simulating the player point of view,\n",
    "- and so on.$\\\\[5pt]$\n",
    "\n",
    "<img src=\"./images/intro.jpg\" width=\"500\"/>$\\\\[5pt]$\n",
    "\n",
    "From the topic *image formation* two main questions arise:\n",
    "\n",
    "- **The geometric problem:** Where does each 3D point project on the image? \n",
    "- **The radiometric problem:** What will be the color on the image of each 3D point? *(not addressed here)*\n",
    "\n",
    "In this notebook we will see some basic mathematical tools that are required for studying image formation models (e.g. pinhole model).  These tools are:\n",
    "\n",
    "- Euclidean transformations in 3D (section 8.1.1).\n",
    "  - Products of 3D vectors (8.1.1.1).\n",
    "  - Linear transformation of vectors (8.1.1.2).\n",
    "  - Rotation matrix (8.1.1.3).\n",
    "- Homogeneous transformations (8.1.2)."
   ]
  },
  {
   "cell_type": "markdown",
   "metadata": {},
   "source": [
    "## Problem context - Camera in first-person videogames \n",
    "\n",
    "In video games, it is called *first person* to any graphical perspective rendered from the viewpoint of the player's character, or a viewpoint from the cockpit or front seat of a vehicle driven by the character. Many genres incorporate first-person perspectives, including adventure games, driving, sailing, and flight simulators. Perhaps the more extended are first-person shooters, in which the graphical perspective is an integral component of the gameplay.\n",
    "\n",
    "Usually, when someones plays a first-person computer game, the `WASD` keys of our keyboard are used to move the camera position in the $x$ and $z$ axes and `SPACE` is used for jumping (this moves the camera in the $y$ axis). The mouse is used for changing the camera direction (this applies *pitch* and/or *yaw* rotations to the camera coordinate system). \n",
    "\n",
    "<img src=\"./images/first_person.jpg\" width=\"500\"/>$\\\\[3pt]$\n",
    "\n",
    "Our task in this notebook is **to program these camera displacements and rotations so they can be integrated into a graphic engine!** Obviously, this implies learning all the maths needed, so let's start the fun!"
   ]
  },
  {
   "cell_type": "code",
   "execution_count": 3,
   "metadata": {},
   "outputs": [],
   "source": [
    "import numpy as np\n",
    "import cv2\n",
    "import matplotlib.pyplot as plt\n",
    "import matplotlib\n",
    "from mpl_toolkits.mplot3d import Axes3D\n",
    "from math import sin, cos, radians\n",
    "%matplotlib notebook\n",
    "\n",
    "matplotlib.rcParams['figure.figsize'] = (6.0, 6.0)\n",
    "images_path = './images/'"
   ]
  },
  {
   "cell_type": "markdown",
   "metadata": {},
   "source": [
    "## 8.1.1 3D Euclidean transformations\n",
    "### 8.1.1.1 Product of 3D vectors\n",
    "\n",
    "First of all, we need to know how vectors are defined and how to multiply them.\n",
    "\n",
    "A **free vector** is defined from a pair of points: $(p,q)$\n",
    "\n",
    "$\\hspace{2cm} X_p = \\begin{bmatrix} X_1 \\\\ Y_1 \\\\ Z_1\\end{bmatrix} \\in \\mathbb{R}^3, \\ X_q = \\begin{bmatrix} X_2 \\\\ Y_2 \\\\ Z_2 \\end{bmatrix} \\in \\mathbb{R}^3 \\\\[5pt]$\n",
    "\n",
    "In this way, we can retrieve the coordinates of a vector $v$ as:\n",
    "\n",
    "$\\hspace{2cm} v = \\begin{bmatrix} v_1 \\\\ v_2 \\\\ v_3\\end{bmatrix} = \\begin{bmatrix} X_2 - X_1 \\\\ Y_2 - Y_1  \\\\ Z_2 - Z_1 \\end{bmatrix} \\in \\mathbb{R}^3$\n",
    "\n",
    "We can plot a set of 3D vector using matplotlib's method [`quiver()`](https://matplotlib.org/3.1.1/gallery/mplot3d/quiver3d.html), which takes 6 main arguments:\n",
    "\n",
    "- *X*,*Y*,*Z*: tuples containing the X, Y and Z coordinates of the origin point in the set of vectors.\n",
    "- *U*,*V*,*W*: tuples containing the X, Y and Z coordinates of all vectors w.r.t. such origin point.\n",
    "\n",
    "The next code illustrates how to plot two free vectors $v_1 = (2,1,1)$, and $  v_2 = (0,1,2)$, with origin point $p=(1,1,1)$"
   ]
  },
  {
   "cell_type": "code",
   "execution_count": null,
   "metadata": {},
   "outputs": [],
   "source": [
    "matplotlib.rcParams['figure.figsize'] = (6.0, 6.0)\n",
    "\n",
    "# Vector coordinates\n",
    "v = np.array([[2,0],[1,1],[1,2]])\n",
    "\n",
    "# Vector labels\n",
    "labels = [\"v1\",\"v2\"]\n",
    "\n",
    "# Origin coordinates\n",
    "origin = np.array([[1,1],[1,1],[1,1]])\n",
    "\n",
    "# Prepare vector for plotting input\n",
    "X,Y,Z = origin[0,:], origin[1,:], origin[2,:]\n",
    "U,V,W = v[0,:], v[1,:], v[2,:]\n",
    "\n",
    "# Create figure\n",
    "fig = plt.figure()\n",
    "\n",
    "# Prepare figure for 3D data\n",
    "ax = fig.gca(projection='3d')\n",
    "\n",
    "# Set axes limits\n",
    "ax.set_xlim3d(-1, 4)\n",
    "ax.set_ylim3d(-1, 4)\n",
    "ax.set_zlim3d(-1, 4)\n",
    "\n",
    "# Add axis labels and aspect ratio\n",
    "ax.set_xlabel('X')\n",
    "ax.set_ylabel('Y')\n",
    "ax.set_zlabel('Z')\n",
    "#ax.set_aspect('equal')\n",
    "\n",
    "# Plot vectors\n",
    "ax.quiver(X, Y, Z, U, V, W,color=\"black\")\n",
    "\n",
    "# Add labels\n",
    "for i in range(len(labels)):\n",
    "    ax.text(U[i]+X[i], V[i]+Y[i], W[i]+Z[i] ,labels[i], fontsize=12)\n",
    "\n",
    "# And show the figure!\n",
    "plt.show()"
   ]
  },
  {
   "cell_type": "markdown",
   "metadata": {},
   "source": [
    "### <span style=\"color:green\"><b><i>ASSIGNMENT 1: We want to see how things work</i></b></span>\n",
    "\n",
    "**Our first task is to** define the method called `plot_vectors()`, which returns a figure plotting a number of input free vectors as defined in `v` with a given `origin` and axes `labels`. \n",
    "\n",
    "*Note that:*\n",
    "\n",
    "- *The function also expects as inputs a figure and some axes. This permits us to call the method multiple times reusing the same figure.*\n",
    "\n",
    "- *The first time that the method is called, the axes must be previously initialized outside of the method using [ax = fig.gca(projection='3d')](https://kite.com/python/docs/matplotlib.figure.Figure.gca).*"
   ]
  },
  {
   "cell_type": "code",
   "execution_count": null,
   "metadata": {},
   "outputs": [],
   "source": [
    "# Assignment 1\n",
    "def plot_vectors(fig, ax, v, origin, labels, color, axes_lim):\n",
    "    \"\"\" Plot 3D vectors using matplotlib\n",
    "        \n",
    "        Args:\n",
    "            fig, ax: Figure and axes (must be 3D)\n",
    "            v: Array containing vector coordinates, each column contains a 3D vector\n",
    "            origin: Array containing vector origin points for 'v' array\n",
    "            labels: Array of strings containing labels for the vectors, it should have same length than columns in 'v'\n",
    "            color: String containing the color of the vectors\n",
    "            axes_lim: 6-size vector containing the minimum and maximum limits for each axis [X_min,X_max,X_min,X_max,Z_min,Z_max]\n",
    "        \n",
    "        Returns: \n",
    "            fig, ax: Figure and axis of a 3D plot with the vectors plotted\n",
    "    \"\"\"   \n",
    "\n",
    "    # Prepare vector for plotting input\n",
    "    \n",
    "\n",
    "    # Set axes limits\n",
    "    \n",
    "    \n",
    "    # Add axis labels and aspect ratio\n",
    "    \n",
    "    \n",
    "    # Plot vectors\n",
    "    \n",
    "    \n",
    "    # Add labels\n",
    "    "
   ]
  },
  {
   "cell_type": "markdown",
   "metadata": {},
   "source": [
    "To **try your function**, the next code should show a orthonormal basis (unit vectors) centered at $(0,0,0)$."
   ]
  },
  {
   "cell_type": "code",
   "execution_count": null,
   "metadata": {},
   "outputs": [],
   "source": [
    "matplotlib.rcParams['figure.figsize'] = (6.0, 6.0)\n",
    "\n",
    "# Create figure\n",
    "fig = plt.figure()\n",
    "\n",
    "# Prepare figure for 3D data\n",
    "ax = fig.gca(projection='3d')\n",
    "   \n",
    "# Vector coordinates\n",
    "v = np.array([[1,0,0],[0,1,0],[0,0,1]])\n",
    "\n",
    "# Origin coordinates\n",
    "origin = np.array([[0,0,0],[0,0,0],[0,0,0]])\n",
    "\n",
    "# Vector labels\n",
    "labels = [\"x\",\"y\",\"z\"]\n",
    "\n",
    "# Call plot_vectors\n",
    "fig, ax = plot_vectors(fig, ax, v, origin, labels, \"red\",[-1,2,-1,2,-1,2])\n",
    "\n",
    "fig.show()"
   ]
  },
  {
   "cell_type": "markdown",
   "metadata": {},
   "source": [
    "Now that you know how to define and plot a set of vectors, you are ready to learn two basic operations with them: the *dot* and *cross products*.\n",
    "\n",
    "#### Dot product of two vectors\n",
    "\n",
    "The dot product (also called scalar product or inner product) of two vectors is the sum of the element-wise product between them, which results in a **scalar**.\n",
    "\n",
    "***Algebraic definition:***\n",
    "\n",
    "$$ \\mathbf{a} = \\begin{bmatrix} a_1 \\\\ a_2 \\\\ a_3\\end{bmatrix} \\;\\;\\;\\;\\;\\;  \\mathbf{b} = \\begin{bmatrix} b_1 \\\\ b_2 \\\\ b_3 \\end{bmatrix}$$\n",
    "\n",
    "$$\\langle\\mathbf{a},\\mathbf{b}\\rangle = \\mathbf{a} \\cdot \\mathbf{b} = \\mathbf{a}^T\\mathbf{b} = \\texttt{trace}(\\mathbf{a} \\, \\mathbf{b}^T) = a_1b_1 + a_2b_2 + a_3b_3 \\in \\mathbb{R}$$\n",
    "\n",
    "The dot product induces a norm for a vector (a distance between 2 points), hence defining the Euclidean norm:\n",
    "\n",
    "$$\\|\\mathbf{a}\\| = \\sqrt{\\mathbf{a}^T\\mathbf{a}} = \\sqrt{a_1^2 + a_2^2 + a_3^2}$$\n",
    "\n",
    "***Geometric definition:*** the dot product of two Euclidean vectors $\\mathbf{a}$ and $\\mathbf{b}$ is defined by:\n",
    "\n",
    "$$ \\mathbf{a}\\cdot \\mathbf{b} = \\| a\\| \\, \\|b\\| \\cos \\theta$$\n",
    "\n",
    "where $\\theta$ is the angle between both vectors. That is, the dot product represents the product of their Euclidean magnitudes and the cosine of the angle between them. Such a definition can be rearranged to calculate the projection of one vector onto the other: $\\\\[5pt]$\n",
    "\n",
    "<img src=\"./images/dot.png\" width=\"300\" align=\"center\"/>"
   ]
  },
  {
   "cell_type": "markdown",
   "metadata": {},
   "source": [
    "### **<span style=\"color:green\"><b><i>ASSIGNMENT 2: Playing with the dot product</i></b></span>**\n",
    "\n",
    "Compute the **dot product** of two vectors: $(0,2,4)$ and $(2,3,2)$ using the described method and check that you get the same result than using `np.dot()` and `np.linalg.norm()`. Then compute the projection of the first vector onto the second one."
   ]
  },
  {
   "cell_type": "code",
   "execution_count": null,
   "metadata": {},
   "outputs": [],
   "source": [
    "# Assignment 2\n",
    "\n",
    "# Matrix of vectors\n",
    "\n",
    "\n",
    "# Dot product\n",
    "\n",
    "\n",
    "# Norm of second vector\n",
    "\n",
    "\n",
    "# Projection of first vector onto the second one\n"
   ]
  },
  {
   "cell_type": "markdown",
   "metadata": {},
   "source": [
    "<font color='blue'>**Expected output:**  </font>\n",
    "\n",
    "3.3955"
   ]
  },
  {
   "cell_type": "markdown",
   "metadata": {},
   "source": [
    "**Cross product of two vectors**\n",
    "\n",
    "The cross product (also called vector product) of two linearly independent vectors $\\mathbf{a}$ and $\\mathbf{b}$ is a linear transformation which results in **another vector** $\\mathbf{c}$ perpendicular to both, and thus to the plane containing them. It's defined as:$\\\\[5pt]$\n",
    "\n",
    "$$ \\mathbf{a} = \\begin{bmatrix} a_1 \\\\ a_2 \\\\ a_3\\end{bmatrix} \\hspace{1cm} \\mathbf{b} = \\begin{bmatrix} b_1 \\\\ b_2 \\\\ b_3 \\end{bmatrix} \\\\[5pt]$$\n",
    "\n",
    "$$ \\mathbf{c} = \\mathbf{a} \\times \\mathbf{b} = \\begin{vmatrix}\n",
    "i & j & k \\\\\n",
    "a_1 & a_2 & a_3 \\\\\n",
    "b_1 & b_2 & b_3\n",
    "\\end{vmatrix}\n",
    "= \n",
    "(a_2 b_3 \\mathbf{i} + a_3 b_1 \\mathbf{j} + a_1 b_2 \\mathbf{k}) - (a_3 b_2 \\mathbf{i} + a_1 b_3 \\mathbf{j} + a_2 b_1 \\mathbf{k})\n",
    "$$\n",
    "\n",
    "$$ = \n",
    "(a_2 b_3 - a_3 b_2)\\mathbf{i} + (a_3 b_1 - a_1 b_3)\\mathbf{j} + (a_1 b_2 - a_2 b_1)\\mathbf{k}\n",
    "$$\n",
    "\n",
    "Although it is more convenient to express it as a linear (matrix) transformation:\n",
    "\n",
    "$$ \\mathbf{c} = \\mathbf{a} \\times \\mathbf{b} \n",
    "= [\\mathbf{a}]_\\times\\mathbf{b} \\hspace{1.5cm} [\\mathbf{a}]_\\times = \\begin{bmatrix} 0 & -a_3 & a_2 \\\\ a_3 & 0 & -a_1 \\\\ -a_2 & a_1 & 0\\end{bmatrix}  \\in \\mathbb{R}^3$$\n",
    "\n",
    "where $[\\mathbf{a}]_\\times$ is called a *skew-symmetric* matrix of $\\mathbf{a}$. Thus, the magnitude of the resultant vector:\n",
    "\n",
    "$$ \\|\\mathbf{c}\\| = \\|\\mathbf{a}\\| \\times \\|\\mathbf{b}\\| \\sin \\theta$$\n",
    "\n",
    "This has an interesting **geometric meaning**: the magnitude of the cross product can be interpreted as the area of the parallelogram that has $\\mathbf{a}$ and $\\mathbf{b}$ as sides. Also, as mentioned, the resulting vector is orthogonal to both $\\mathbf{a}$ and $\\mathbf{b}$ vectors.\n",
    "\n",
    "<img src=\"./images/cross.png\" width=\"200\" align=\"center\"/>"
   ]
  },
  {
   "cell_type": "markdown",
   "metadata": {},
   "source": [
    "### **<span style=\"color:green\"><b><i>ASSIGNMENT 3: It's cross product time</i></b></span>**\n",
    "\n",
    "Compute the cross product of any 2 vectors $\\mathbf{a}$ and $\\mathbf{b}$. Check that you get the same result as using `np.cross()`. Then plot $\\mathbf{a}$ and $\\mathbf{b}$ as black vectors and their cross product in red using the previous defined method `plot_vectors()`.\n",
    "\n",
    "*Tip: Matrix multiplication is defined in numPy as `A @ B`. To transform an array (row) to a vertical vector (column) you can use [np.vstack](https://docs.scipy.org/doc/numpy/reference/generated/numpy.vstack.html).*"
   ]
  },
  {
   "cell_type": "code",
   "execution_count": null,
   "metadata": {},
   "outputs": [],
   "source": [
    "matplotlib.rcParams['figure.figsize'] = (6.0, 6.0)\n",
    "\n",
    "# Assignment 3\n",
    "\n",
    "# Vector coordinates\n",
    "\n",
    "\n",
    "# Vector origin points\n",
    "\n",
    "\n",
    "# Isolate vectors\n",
    "\n",
    "\n",
    "# Compute â\n",
    "\n",
    "\n",
    "# Compute cross product\n",
    "\n",
    "\n",
    "# Transform to vertical vector\n",
    "\n",
    "\n",
    "# Create figure\n",
    "\n",
    "\n",
    "# Prepare figure for 3D data\n",
    "\n",
    "\n",
    "# Call plot_vectors\n"
   ]
  },
  {
   "cell_type": "markdown",
   "metadata": {},
   "source": [
    "#### Extra: product of three vectors\n",
    "\n",
    "The product of three vectors (or scalar triple product) is a combination of the two previous ones: it is defined as the dot product of a vector $\\mathbf{c}$ with the cross product of the other two, namely $\\mathbf{a}$ and $\\mathbf{b}$, that is:\n",
    "\n",
    "$$(a \\times b) \\cdot c$$\n",
    "\n",
    "This product also has a **geometric meaning**: it is the (signed) volume of the parallelepiped defined by those vectors:$\\\\[10pt]$\n",
    "\n",
    "<img src=\"./images/triple.png\" width=\"250\"/>$\\\\[3pt]$"
   ]
  },
  {
   "cell_type": "markdown",
   "metadata": {},
   "source": [
    "### **<span style=\"color:green\"><b><i>ASSIGNMENT 4: concluding with the triple product</i></b></span>**\n",
    "\n",
    "Compute the triple product of $a=(1,2,3)$, $b=(3,1,2)$ and $c=(2,2,1)$:\n",
    "\n",
    "*Notice that $c \\cdot (a \\times b) = a \\cdot (b \\times c)$*"
   ]
  },
  {
   "cell_type": "code",
   "execution_count": null,
   "metadata": {},
   "outputs": [],
   "source": [
    "# Assignment 4\n",
    "\n",
    "# Vector coordinates\n",
    "\n",
    "\n",
    "#Isolate vectors\n",
    "\n",
    "\n",
    "# Compute â\n",
    "\n",
    "\n",
    "# Compute cross product\n",
    "\n",
    "\n",
    "# Compute triple product\n",
    "\n"
   ]
  },
  {
   "cell_type": "markdown",
   "metadata": {},
   "source": [
    "<font color='blue'>**Expected output:**  </font>\n",
    "\n",
    "   Triple product: 11"
   ]
  },
  {
   "cell_type": "markdown",
   "metadata": {},
   "source": [
    "### 8.1.1.2 Linear transformation of vectors\n",
    "\n",
    "As we saw before, the cross product of two vectors is a linear transformation, i.e., a linear function that transforms vectors. But cross product is just one particular case of linear transformation in where the matrix that defines the linear function is created from the elements of a vector. A more general definition for linear transformations in the 3D-space would be:\n",
    "\n",
    "$$A\\vec{v} = \\begin{bmatrix} a_1 & a_2 & a_3 \\\\ a_4 & a_5 & a_6 \\\\ a_7 & a_8 & a_9 \\end{bmatrix} \\begin{bmatrix} v_1 \\\\ v_2 \\\\ v_3\\end{bmatrix} =  \\begin{bmatrix} a_1v_1 + a_2v_2 + a_3v_3 \\\\ a_4v_1 + a_5v_2 + a_6v_3 \\\\ a_7v_1 + a_8v_2 + a_9v_3\\end{bmatrix}$$\n",
    "\n",
    "*Note that $\\vec{v}$ can be a matrix containing one vector per column, so the linear transformation is applied to every vector.*\n",
    "\n",
    "But, what means that a operation (in this case a matrix multiplication) is linear?\n",
    "\n",
    "It means that the following two properties hold:\n",
    "\n",
    "- **Aditivity:** $f(\\mathbf{x}_1 + \\mathbf{x}_2) = f(\\mathbf{x}_1) + f(\\mathbf{x}_2)$$\\\\[5pt]$\n",
    "\n",
    "- **Scaling:** $f(\\alpha \\mathbf{x}_1) = \\alpha f(\\mathbf{x}_1)$\n",
    "\n",
    "Equivalently, the superposition principle also holds:\n",
    "\n",
    "- **Superposition:** $f(\\alpha \\mathbf{x}_1 + \\beta \\mathbf{x}_2) = \\alpha f(\\mathbf{x}_1) + \\beta f(\\mathbf{x}_2)$ \n",
    "\n",
    "And luckily, matrix multiplication satisfies this property!\n",
    "\n",
    "$$A(\\alpha \\mathbf{x}_1 + \\beta \\mathbf{x}_2) = \\alpha A \\mathbf{x}_1 + \\beta A \\mathbf{x}_2 = \\alpha \\mathbf{y}_1 + \\beta \\mathbf{y}_2$$\n",
    "\n",
    "that is: the transformation of linear combinations of vectors $(\\alpha \\mathbf{x}_1 + \\beta \\mathbf{x}_2)$ is the linear combination of the transformed vectors $(\\alpha \\mathbf{y}_1 + \\beta \\mathbf{y}_2)$. The following figure shows an example of this property in action.\n",
    "\n",
    "<img src=\"./images/linear.png\" width=\"600\" align=\"center\"/>"
   ]
  },
  {
   "cell_type": "markdown",
   "metadata": {},
   "source": [
    "### **<span style=\"color:green\"><b><i>ASSIGNMENT 5: Playing with linear transformations</i></b></span>**\n",
    "\n",
    "Implement a complete method `apply_transformation()`, which applies a `transformation` to a set of vectors `v` and then shows the original vectors in black and the transformed ones in red. **Reuse the method `plot_vectors`** for this exercise.\n",
    "\n",
    "*NOTE: The labels for the transformed vectors are the same that for the originals (but showed in red).*"
   ]
  },
  {
   "cell_type": "code",
   "execution_count": null,
   "metadata": {},
   "outputs": [],
   "source": [
    "# Assigment 5\n",
    "def apply_transformation(transformation, v, origin, labels, axes_lim):\n",
    "    \"\"\" Apply a linear transformation to a set of 3D-vectors and plot them\n",
    "        \n",
    "        Args:\n",
    "            transformation: 3x3 matrix that defines the linear transformation\n",
    "            v: Array containing vector coordinates, each column contains a 3D vector\n",
    "            origin: Array containing vector origin points for 'v' array\n",
    "            labels: Array of strings containing labels for the vectors, it should have same length than columns in 'v'\n",
    "            axes_lim: 6-size vector containing the minimum and maximum limits for each axis [X_min,X_max,X_min,X_max,Z_min,Z_max]\n",
    "    \"\"\"   \n",
    "    \n",
    "    # Apply transformation\n",
    "    \n",
    "    \n",
    "    # Create figure\n",
    "    \n",
    "\n",
    "    # Prepare figure for 3D data\n",
    "    \n",
    "\n",
    "    # Call plot_vectors\n",
    "    "
   ]
  },
  {
   "cell_type": "markdown",
   "metadata": {},
   "source": [
    "You can use next code **to test if your results are correct**:"
   ]
  },
  {
   "cell_type": "code",
   "execution_count": null,
   "metadata": {
    "scrolled": false
   },
   "outputs": [],
   "source": [
    "matplotlib.rcParams['figure.figsize'] = (6.0, 6.0)\n",
    "\n",
    "# Transformation\n",
    "transformation = [[2,2,2],[0,2,0],[0,0,2]]\n",
    "\n",
    "# Vector coordinates\n",
    "v = np.array([[1,0,0],[0,1,0],[0,0,1]])\n",
    "\n",
    "# Origin coordinates\n",
    "origin = np.array([[0,0,0],[0,0,0],[0,0,0]])\n",
    "\n",
    "apply_transformation(transformation,v,origin,[\"x\",\"y\",\"z\"],[-3,3,-3,3,-3,3])"
   ]
  },
  {
   "cell_type": "markdown",
   "metadata": {},
   "source": [
    "<font color='blue'>**Expected output:**  </font>\n",
    "\n",
    "<img src=\"./images/example_transformation.png\" width=\"500\" align=\"left\"/>\n",
    "<img src=\"./images/blank.png\" width=\"100\" align=\"rigth\"/>"
   ]
  },
  {
   "cell_type": "markdown",
   "metadata": {},
   "source": [
    "### 8.1.1.3 Rotation matrix\n",
    "\n",
    "A rotation matrix represents a special linear transformation that rotates vectors preserving their length.\n",
    "\n",
    "$$\n",
    "\\mathbf{R} = \n",
    "\\begin{bmatrix} \n",
    "r_{11} & r_{12} & r_{13} \\\\ \n",
    "r_{21} & r_{22} & r_{23} \\\\ \n",
    "r_{32} & r_{32} & r_{33} \\end{bmatrix} \n",
    "= \\underbrace{[r_x \\ r_y \\ r_z]}_{\\text{coordinates of the original}\\\\ \\text{basis in the new one}} \\in \\mathbb{R}^{3x3}\n",
    "$$\n",
    "\n",
    "In this way, if we have a point $p$ with coordinates $p=[x,y,z]^T$ in the `WORLD` reference system, we can rotate it around the origin of coordinates and obtain its new coordinates by:\n",
    "\n",
    "$$\n",
    "p' = \\mathbf{R}p \n",
    "\\ \\ \\rightarrow \\ \\ \n",
    "\\begin{bmatrix} \n",
    "x' \\\\ y' \\\\ z' \n",
    "\\end{bmatrix} \n",
    "= \n",
    "\\mathbf{R} \n",
    "\\begin{bmatrix} \n",
    "x \\\\ y \\\\ z \n",
    "\\end{bmatrix}\n",
    "$$\n",
    "\n",
    "In our graphical engine, this could correspond to the case of a point orbiting around the camera and is called **active rotation**. \n",
    "\n",
    "On the other hand, we can use the inverse of $\\mathbf{R}$ to compute the coordinates $p$ of a point $q$ within a rotated reference system. In this case, we can understand this as if the point is fixed in the `WORLD` reference system and it is the camera (or the player point-of-view, if you want) which is rotating within it. This, in turn, is called **passive rotation**.\n",
    "\n",
    "<img src=\"./images/rotation.png\" width=\"300\" align=\"center\"/>\n",
    "\n",
    "\n",
    "In this case, we have that:\n",
    "$$\n",
    "p = \\mathbf{R}^{-1}q = \\mathbf{R}^Tq \\rightarrow \n",
    "\\begin{bmatrix} \n",
    "p_x \\\\ p_y \\\\ p_z \n",
    "\\end{bmatrix} = \n",
    "\\mathbf{R}^T\n",
    "\\begin{bmatrix} \n",
    "q_x \\\\ q_y \\\\ q_z \n",
    "\\end{bmatrix}\n",
    "$$\n",
    "A rotation matrix $\\mathbf{R}$ is an **orthogonal** matrix, so:\n",
    "\n",
    "- Its inverse equals its transpose (great property!): $\\mathbf{R}^T\\mathbf{R} = \\mathbf{R}\\mathbf{R}^T = I \\rightarrow \\mathbf{R}^T = \\mathbf{R}^{-1}$\n",
    "\n",
    "- $\\mathbf{R}$ also verifies that $\\ \\texttt{det}(\\mathbf{R}) = +1$\n",
    "\n",
    "In 3D-space, we have three elemental rotations, one in each axis, namely *yaw*, *pitch* and *roll*:\n",
    "\n",
    "<img src=\"./images/rotation_plane.png\" width=\"500\" align=\"center\"/>\n",
    "\n",
    "These elemental rotations are defined as three different matrices:\n",
    "\n",
    "$\\hspace{2cm}\\mathbf{R}_z(\\theta) = \\begin{bmatrix} cos\\theta & -sin\\theta & 0 \\\\ sin\\theta & cos\\theta & 0 \\\\ 0 & 0 & 1 \\end{bmatrix} \\hspace{1cm} \\mathbf{R}_y(\\theta) = \\begin{bmatrix} cos\\theta & 0 & -sin\\theta \\\\ 0 & 1 & 0 \\\\ -sin\\theta & 0 & cos\\theta \\end{bmatrix} \\hspace{1cm} \\mathbf{R}_x(\\theta) = \\begin{bmatrix} 1 & 0 & 0 \\\\ 0 & cos\\theta & -sin\\theta \\\\ 0 & sin\\theta & cos\\theta \\end{bmatrix}\\\\[5pt]$\n",
    "\n",
    "but by multiplying them we can perform a multiple-axes rotation!\n",
    "\n",
    "$$\n",
    "\\mathbf{R}_W^C \n",
    "= \n",
    "\\begin{bmatrix} \n",
    "r_{11} & r_{12} & r_{13} \\\\ \n",
    "r_{21} & r_{22} & r_{23} \\\\ \n",
    "r_{31} & r_{32} & r_{33} \n",
    "\\end{bmatrix} \n",
    "= \n",
    "\\mathbf{R}_z(yaw)\\mathbf{R}_y(pitch)\\mathbf{R}_x(roll) \n",
    "$$\n",
    "\n",
    "*Note that elemental rotation matrices keep static the transformation in an axis, (e.g. pitch rotation doesn't modify $y$ values)*\n",
    "\n",
    "The are several different orders in where these matrixes can be multiplied but the one presented here (i.e. Z-Y-X) is one of the most used (e.g. robotics, airbone navigation, etc.). Be careful! Order matters here as matrix multiplication is not commutative!\n",
    "\n",
    "The notation in the $\\mathbf{R}^C_W$ matrix means that such a rotation transforms points from the `WORLD` reference frame to the `CAMERA` one, and it must be understood as **the rotation of the `WORLD` reference frame as seen from the `CAMERA` one**. Thereby, we could transform any point (or vector) from the world coordinate system (e.g. a corner in a room) to the camera coordinate system (e.g. a security camera in the ceiling of the room).\n",
    "\n",
    "However, usually cameras are not placed at the center of the `WORLD` coordinate system, that is, they don't share their origin of coordinates. That means that the camera is also translated w.r.t. the `WORLD` reference system, so we have to include a translation vector $\\mathbf{t}_W^C$ in order to be able to convert points between the two reference frames. Again, this translation vector must be understood as **the position of the origin of the `WORLD` reference frame as seen from the `CAMERA` coordinate system**: \n",
    "\n",
    "$$p^C = \\mathbf{R}^C_W p^W + \\mathbf{t}_W^C$$\n",
    "\n",
    "$$ \\begin{bmatrix} x' \\\\ y' \\\\ z' \\end{bmatrix} \n",
    "= \n",
    "\\begin{bmatrix} \n",
    "r_{11} & r_{12} & r_{13} \\\\ \n",
    "r_{21} & r_{22} & r_{23} \\\\ \n",
    "r_{31} & r_{32} & r_{33} \n",
    "\\end{bmatrix} \n",
    "\\begin{bmatrix} x \\\\ y \\\\ z \n",
    "\\end{bmatrix} \n",
    "+ \n",
    "\\begin{bmatrix} t_x \\\\ t_y \\\\ t_z \\end{bmatrix}\n",
    "$$\n",
    "\n",
    "In this expression, the superindex indicates the reference system in where the element is expressed. Thus, for instance, $p^C$ indicates that the position of the point $p$ is expressed in the `CAMERA` reference system."
   ]
  },
  {
   "cell_type": "markdown",
   "metadata": {},
   "source": [
    "### **<span style=\"color:green\"><b><i>ASSIGNMENT 6: Rotating and translating things</i></b></span>**\n",
    " \n",
    " Now, we are going to implement the `apply_rotation_translation()` method, which accepts *pitch*, *yaw* and *roll* rotation angles (in degrees) and a translation vector and applies such transformations to an input vector.\n",
    "\n",
    "*Tip: you can transform degrees to radians using [`radians()`](https://www.geeksforgeeks.org/degrees-and-radians-in-python/).*"
   ]
  },
  {
   "cell_type": "code",
   "execution_count": null,
   "metadata": {},
   "outputs": [],
   "source": [
    "# Assignment 6\n",
    "def apply_rotation_translation(v, origin, yaw, pitch, roll, translation, labels, axes_lim):\n",
    "    \"\"\" Apply a linear transformation to a set of 3D-vectors and plot them\n",
    "        \n",
    "        Args:\n",
    "            v: Array containing vector coordinates, each column contains a 3D vector\n",
    "            origin: Array containing vector origin points for 'v' array.\n",
    "            yaw: Degrees to rotate the coordinate system around the 'Z' axis \n",
    "            pitch: Degrees to rotate the coordinate system around the 'Y' axis \n",
    "            roll: Degrees to rotate the coordinate system around the 'X' axis \n",
    "            translation: Column vector containing the translation for each axis\n",
    "            labels: Array of strings containing labels for the vectors, it should have same length than columns in 'v'\n",
    "            axes_lim: 6-size vector containing the minimum and maximum limits for each axis [X_min,X_max,X_min,X_max,Z_min,Z_max]\n",
    "    \"\"\"   \n",
    "    \n",
    "    # Transform to radians\n",
    "    \n",
    "    \n",
    "    # Construct rotation matrices\n",
    "    \n",
    "    \n",
    "    # Combine rotation matrices\n",
    "    \n",
    "    \n",
    "    # Apply transformation\n",
    "    \n",
    "    \n",
    "    # Create figure\n",
    "    \n",
    "\n",
    "    # Prepare figure for 3D data\n",
    "    \n",
    "\n",
    "    # Call plot_vectors\n",
    "    "
   ]
  },
  {
   "cell_type": "code",
   "execution_count": 30,
   "metadata": {},
   "outputs": [],
   "source": [
    "def apply_rotation_translation(v, origin, yaw, pitch, roll, translation, labels, axes_lim):\n",
    "    \"\"\" Apply a linear transformation to a set of 3D-vectors and plot them\n",
    "        \n",
    "        Args:\n",
    "            v: Array containing vector coordinates, each column contains a 3D vector\n",
    "            origin: Array containing vector origin points for 'v' array.\n",
    "            yaw: Degrees to rotate the coordinate system around the 'Z' axis \n",
    "            pitch: Degrees to rotate the coordinate system around the 'Y' axis \n",
    "            roll: Degrees to rotate the coordinate system around the 'X' axis \n",
    "            translation: Column vector containing the translation for each axis\n",
    "            labels: Array of strings containing labels for the vectors, it should have same length than columns in 'v'\n",
    "            axes_lim: 6-size vector containing the minimum and maximum limits for each axis [X_min,X_max,Y_min,Y_max,Z_min,Z_max]\n",
    "    \"\"\"   \n",
    "    \n",
    "    # Transform to radians\n",
    "    yaw = np.radians(yaw)\n",
    "    pitch = np.radians(pitch)\n",
    "    roll = np.radians(roll)\n",
    "\n",
    "    # Construct rotation matrices\n",
    "    R_yaw = np.array([[cos(yaw), -sin(yaw), 0],\n",
    "                      [sin(yaw), cos(yaw), 0],\n",
    "                      [0, 0, 1]])\n",
    "    R_pitch = np.array([[cos(pitch), 0, sin(pitch)],\n",
    "                        [0, 1, 0],\n",
    "                        [-sin(pitch), 0, cos(pitch)]])\n",
    "    R_roll = np.array([[1, 0, 0],\n",
    "                       [0, cos(roll), -sin(roll)],\n",
    "                       [0, sin(roll), cos(roll)]])\n",
    "    \n",
    "    # Combine rotation matrices\n",
    "    R = R_yaw @ R_pitch @ R_roll\n",
    "    \n",
    "    # Apply transformation\n",
    "    v_transformed = R @ v + translation  # Apply rotation and translation\n",
    "    \n",
    "    # Create figure\n",
    "    fig = plt.figure()\n",
    "    ax = fig.add_subplot(111, projection='3d')  \n",
    "\n",
    "    # Prepare figure for 3D data\n",
    "    ax.set_xlabel('X')\n",
    "    ax.set_ylabel('Y')\n",
    "    ax.set_zlabel('Z')\n",
    "    ax.set_title('3D Vector Transformation')\n",
    "    \n",
    "    # Set axis limits\n",
    "    ax.set_xlim(axes_lim[0], axes_lim[1])\n",
    "    ax.set_ylim(axes_lim[2], axes_lim[3])\n",
    "    ax.set_zlim(axes_lim[4], axes_lim[5])\n",
    "    \n",
    "    # Plot each vector\n",
    "    for i in range(v_transformed.shape[1]):\n",
    "        ax.quiver(origin[0, i], origin[1, i], origin[2, i],\n",
    "                  v_transformed[0, i], v_transformed[1, i], v_transformed[2, i],\n",
    "                  arrow_length_ratio=0.1, label=labels[i])\n",
    "    \n",
    "    ax.legend()\n",
    "    plt.show()"
   ]
  },
  {
   "cell_type": "markdown",
   "metadata": {},
   "source": [
    "You can use next code **to test if your results are correct**:"
   ]
  },
  {
   "cell_type": "code",
   "execution_count": 31,
   "metadata": {},
   "outputs": [
    {
     "data": {
      "application/javascript": "/* Put everything inside the global mpl namespace */\n/* global mpl */\nwindow.mpl = {};\n\nmpl.get_websocket_type = function () {\n    if (typeof WebSocket !== 'undefined') {\n        return WebSocket;\n    } else if (typeof MozWebSocket !== 'undefined') {\n        return MozWebSocket;\n    } else {\n        alert(\n            'Your browser does not have WebSocket support. ' +\n                'Please try Chrome, Safari or Firefox ≥ 6. ' +\n                'Firefox 4 and 5 are also supported but you ' +\n                'have to enable WebSockets in about:config.'\n        );\n    }\n};\n\nmpl.figure = function (figure_id, websocket, ondownload, parent_element) {\n    this.id = figure_id;\n\n    this.ws = websocket;\n\n    this.supports_binary = this.ws.binaryType !== undefined;\n\n    if (!this.supports_binary) {\n        var warnings = document.getElementById('mpl-warnings');\n        if (warnings) {\n            warnings.style.display = 'block';\n            warnings.textContent =\n                'This browser does not support binary websocket messages. ' +\n                'Performance may be slow.';\n        }\n    }\n\n    this.imageObj = new Image();\n\n    this.context = undefined;\n    this.message = undefined;\n    this.canvas = undefined;\n    this.rubberband_canvas = undefined;\n    this.rubberband_context = undefined;\n    this.format_dropdown = undefined;\n\n    this.image_mode = 'full';\n\n    this.root = document.createElement('div');\n    this.root.setAttribute('style', 'display: inline-block');\n    this._root_extra_style(this.root);\n\n    parent_element.appendChild(this.root);\n\n    this._init_header(this);\n    this._init_canvas(this);\n    this._init_toolbar(this);\n\n    var fig = this;\n\n    this.waiting = false;\n\n    this.ws.onopen = function () {\n        fig.send_message('supports_binary', { value: fig.supports_binary });\n        fig.send_message('send_image_mode', {});\n        if (fig.ratio !== 1) {\n            fig.send_message('set_device_pixel_ratio', {\n                device_pixel_ratio: fig.ratio,\n            });\n        }\n        fig.send_message('refresh', {});\n    };\n\n    this.imageObj.onload = function () {\n        if (fig.image_mode === 'full') {\n            // Full images could contain transparency (where diff images\n            // almost always do), so we need to clear the canvas so that\n            // there is no ghosting.\n            fig.context.clearRect(0, 0, fig.canvas.width, fig.canvas.height);\n        }\n        fig.context.drawImage(fig.imageObj, 0, 0);\n    };\n\n    this.imageObj.onunload = function () {\n        fig.ws.close();\n    };\n\n    this.ws.onmessage = this._make_on_message_function(this);\n\n    this.ondownload = ondownload;\n};\n\nmpl.figure.prototype._init_header = function () {\n    var titlebar = document.createElement('div');\n    titlebar.classList =\n        'ui-dialog-titlebar ui-widget-header ui-corner-all ui-helper-clearfix';\n    var titletext = document.createElement('div');\n    titletext.classList = 'ui-dialog-title';\n    titletext.setAttribute(\n        'style',\n        'width: 100%; text-align: center; padding: 3px;'\n    );\n    titlebar.appendChild(titletext);\n    this.root.appendChild(titlebar);\n    this.header = titletext;\n};\n\nmpl.figure.prototype._canvas_extra_style = function (_canvas_div) {};\n\nmpl.figure.prototype._root_extra_style = function (_canvas_div) {};\n\nmpl.figure.prototype._init_canvas = function () {\n    var fig = this;\n\n    var canvas_div = (this.canvas_div = document.createElement('div'));\n    canvas_div.setAttribute('tabindex', '0');\n    canvas_div.setAttribute(\n        'style',\n        'border: 1px solid #ddd;' +\n            'box-sizing: content-box;' +\n            'clear: both;' +\n            'min-height: 1px;' +\n            'min-width: 1px;' +\n            'outline: 0;' +\n            'overflow: hidden;' +\n            'position: relative;' +\n            'resize: both;' +\n            'z-index: 2;'\n    );\n\n    function on_keyboard_event_closure(name) {\n        return function (event) {\n            return fig.key_event(event, name);\n        };\n    }\n\n    canvas_div.addEventListener(\n        'keydown',\n        on_keyboard_event_closure('key_press')\n    );\n    canvas_div.addEventListener(\n        'keyup',\n        on_keyboard_event_closure('key_release')\n    );\n\n    this._canvas_extra_style(canvas_div);\n    this.root.appendChild(canvas_div);\n\n    var canvas = (this.canvas = document.createElement('canvas'));\n    canvas.classList.add('mpl-canvas');\n    canvas.setAttribute(\n        'style',\n        'box-sizing: content-box;' +\n            'pointer-events: none;' +\n            'position: relative;' +\n            'z-index: 0;'\n    );\n\n    this.context = canvas.getContext('2d');\n\n    var backingStore =\n        this.context.backingStorePixelRatio ||\n        this.context.webkitBackingStorePixelRatio ||\n        this.context.mozBackingStorePixelRatio ||\n        this.context.msBackingStorePixelRatio ||\n        this.context.oBackingStorePixelRatio ||\n        this.context.backingStorePixelRatio ||\n        1;\n\n    this.ratio = (window.devicePixelRatio || 1) / backingStore;\n\n    var rubberband_canvas = (this.rubberband_canvas = document.createElement(\n        'canvas'\n    ));\n    rubberband_canvas.setAttribute(\n        'style',\n        'box-sizing: content-box;' +\n            'left: 0;' +\n            'pointer-events: none;' +\n            'position: absolute;' +\n            'top: 0;' +\n            'z-index: 1;'\n    );\n\n    // Apply a ponyfill if ResizeObserver is not implemented by browser.\n    if (this.ResizeObserver === undefined) {\n        if (window.ResizeObserver !== undefined) {\n            this.ResizeObserver = window.ResizeObserver;\n        } else {\n            var obs = _JSXTOOLS_RESIZE_OBSERVER({});\n            this.ResizeObserver = obs.ResizeObserver;\n        }\n    }\n\n    this.resizeObserverInstance = new this.ResizeObserver(function (entries) {\n        // There's no need to resize if the WebSocket is not connected:\n        // - If it is still connecting, then we will get an initial resize from\n        //   Python once it connects.\n        // - If it has disconnected, then resizing will clear the canvas and\n        //   never get anything back to refill it, so better to not resize and\n        //   keep something visible.\n        if (fig.ws.readyState != 1) {\n            return;\n        }\n        var nentries = entries.length;\n        for (var i = 0; i < nentries; i++) {\n            var entry = entries[i];\n            var width, height;\n            if (entry.contentBoxSize) {\n                if (entry.contentBoxSize instanceof Array) {\n                    // Chrome 84 implements new version of spec.\n                    width = entry.contentBoxSize[0].inlineSize;\n                    height = entry.contentBoxSize[0].blockSize;\n                } else {\n                    // Firefox implements old version of spec.\n                    width = entry.contentBoxSize.inlineSize;\n                    height = entry.contentBoxSize.blockSize;\n                }\n            } else {\n                // Chrome <84 implements even older version of spec.\n                width = entry.contentRect.width;\n                height = entry.contentRect.height;\n            }\n\n            // Keep the size of the canvas and rubber band canvas in sync with\n            // the canvas container.\n            if (entry.devicePixelContentBoxSize) {\n                // Chrome 84 implements new version of spec.\n                canvas.setAttribute(\n                    'width',\n                    entry.devicePixelContentBoxSize[0].inlineSize\n                );\n                canvas.setAttribute(\n                    'height',\n                    entry.devicePixelContentBoxSize[0].blockSize\n                );\n            } else {\n                canvas.setAttribute('width', width * fig.ratio);\n                canvas.setAttribute('height', height * fig.ratio);\n            }\n            /* This rescales the canvas back to display pixels, so that it\n             * appears correct on HiDPI screens. */\n            canvas.style.width = width + 'px';\n            canvas.style.height = height + 'px';\n\n            rubberband_canvas.setAttribute('width', width);\n            rubberband_canvas.setAttribute('height', height);\n\n            // And update the size in Python. We ignore the initial 0/0 size\n            // that occurs as the element is placed into the DOM, which should\n            // otherwise not happen due to the minimum size styling.\n            if (width != 0 && height != 0) {\n                fig.request_resize(width, height);\n            }\n        }\n    });\n    this.resizeObserverInstance.observe(canvas_div);\n\n    function on_mouse_event_closure(name) {\n        /* User Agent sniffing is bad, but WebKit is busted:\n         * https://bugs.webkit.org/show_bug.cgi?id=144526\n         * https://bugs.webkit.org/show_bug.cgi?id=181818\n         * The worst that happens here is that they get an extra browser\n         * selection when dragging, if this check fails to catch them.\n         */\n        var UA = navigator.userAgent;\n        var isWebKit = /AppleWebKit/.test(UA) && !/Chrome/.test(UA);\n        if(isWebKit) {\n            return function (event) {\n                /* This prevents the web browser from automatically changing to\n                 * the text insertion cursor when the button is pressed. We\n                 * want to control all of the cursor setting manually through\n                 * the 'cursor' event from matplotlib */\n                event.preventDefault()\n                return fig.mouse_event(event, name);\n            };\n        } else {\n            return function (event) {\n                return fig.mouse_event(event, name);\n            };\n        }\n    }\n\n    canvas_div.addEventListener(\n        'mousedown',\n        on_mouse_event_closure('button_press')\n    );\n    canvas_div.addEventListener(\n        'mouseup',\n        on_mouse_event_closure('button_release')\n    );\n    canvas_div.addEventListener(\n        'dblclick',\n        on_mouse_event_closure('dblclick')\n    );\n    // Throttle sequential mouse events to 1 every 20ms.\n    canvas_div.addEventListener(\n        'mousemove',\n        on_mouse_event_closure('motion_notify')\n    );\n\n    canvas_div.addEventListener(\n        'mouseenter',\n        on_mouse_event_closure('figure_enter')\n    );\n    canvas_div.addEventListener(\n        'mouseleave',\n        on_mouse_event_closure('figure_leave')\n    );\n\n    canvas_div.addEventListener('wheel', function (event) {\n        if (event.deltaY < 0) {\n            event.step = 1;\n        } else {\n            event.step = -1;\n        }\n        on_mouse_event_closure('scroll')(event);\n    });\n\n    canvas_div.appendChild(canvas);\n    canvas_div.appendChild(rubberband_canvas);\n\n    this.rubberband_context = rubberband_canvas.getContext('2d');\n    this.rubberband_context.strokeStyle = '#000000';\n\n    this._resize_canvas = function (width, height, forward) {\n        if (forward) {\n            canvas_div.style.width = width + 'px';\n            canvas_div.style.height = height + 'px';\n        }\n    };\n\n    // Disable right mouse context menu.\n    canvas_div.addEventListener('contextmenu', function (_e) {\n        event.preventDefault();\n        return false;\n    });\n\n    function set_focus() {\n        canvas.focus();\n        canvas_div.focus();\n    }\n\n    window.setTimeout(set_focus, 100);\n};\n\nmpl.figure.prototype._init_toolbar = function () {\n    var fig = this;\n\n    var toolbar = document.createElement('div');\n    toolbar.classList = 'mpl-toolbar';\n    this.root.appendChild(toolbar);\n\n    function on_click_closure(name) {\n        return function (_event) {\n            return fig.toolbar_button_onclick(name);\n        };\n    }\n\n    function on_mouseover_closure(tooltip) {\n        return function (event) {\n            if (!event.currentTarget.disabled) {\n                return fig.toolbar_button_onmouseover(tooltip);\n            }\n        };\n    }\n\n    fig.buttons = {};\n    var buttonGroup = document.createElement('div');\n    buttonGroup.classList = 'mpl-button-group';\n    for (var toolbar_ind in mpl.toolbar_items) {\n        var name = mpl.toolbar_items[toolbar_ind][0];\n        var tooltip = mpl.toolbar_items[toolbar_ind][1];\n        var image = mpl.toolbar_items[toolbar_ind][2];\n        var method_name = mpl.toolbar_items[toolbar_ind][3];\n\n        if (!name) {\n            /* Instead of a spacer, we start a new button group. */\n            if (buttonGroup.hasChildNodes()) {\n                toolbar.appendChild(buttonGroup);\n            }\n            buttonGroup = document.createElement('div');\n            buttonGroup.classList = 'mpl-button-group';\n            continue;\n        }\n\n        var button = (fig.buttons[name] = document.createElement('button'));\n        button.classList = 'mpl-widget';\n        button.setAttribute('role', 'button');\n        button.setAttribute('aria-disabled', 'false');\n        button.addEventListener('click', on_click_closure(method_name));\n        button.addEventListener('mouseover', on_mouseover_closure(tooltip));\n\n        var icon_img = document.createElement('img');\n        icon_img.src = '_images/' + image + '.png';\n        icon_img.srcset = '_images/' + image + '_large.png 2x';\n        icon_img.alt = tooltip;\n        button.appendChild(icon_img);\n\n        buttonGroup.appendChild(button);\n    }\n\n    if (buttonGroup.hasChildNodes()) {\n        toolbar.appendChild(buttonGroup);\n    }\n\n    var fmt_picker = document.createElement('select');\n    fmt_picker.classList = 'mpl-widget';\n    toolbar.appendChild(fmt_picker);\n    this.format_dropdown = fmt_picker;\n\n    for (var ind in mpl.extensions) {\n        var fmt = mpl.extensions[ind];\n        var option = document.createElement('option');\n        option.selected = fmt === mpl.default_extension;\n        option.innerHTML = fmt;\n        fmt_picker.appendChild(option);\n    }\n\n    var status_bar = document.createElement('span');\n    status_bar.classList = 'mpl-message';\n    toolbar.appendChild(status_bar);\n    this.message = status_bar;\n};\n\nmpl.figure.prototype.request_resize = function (x_pixels, y_pixels) {\n    // Request matplotlib to resize the figure. Matplotlib will then trigger a resize in the client,\n    // which will in turn request a refresh of the image.\n    this.send_message('resize', { width: x_pixels, height: y_pixels });\n};\n\nmpl.figure.prototype.send_message = function (type, properties) {\n    properties['type'] = type;\n    properties['figure_id'] = this.id;\n    this.ws.send(JSON.stringify(properties));\n};\n\nmpl.figure.prototype.send_draw_message = function () {\n    if (!this.waiting) {\n        this.waiting = true;\n        this.ws.send(JSON.stringify({ type: 'draw', figure_id: this.id }));\n    }\n};\n\nmpl.figure.prototype.handle_save = function (fig, _msg) {\n    var format_dropdown = fig.format_dropdown;\n    var format = format_dropdown.options[format_dropdown.selectedIndex].value;\n    fig.ondownload(fig, format);\n};\n\nmpl.figure.prototype.handle_resize = function (fig, msg) {\n    var size = msg['size'];\n    if (size[0] !== fig.canvas.width || size[1] !== fig.canvas.height) {\n        fig._resize_canvas(size[0], size[1], msg['forward']);\n        fig.send_message('refresh', {});\n    }\n};\n\nmpl.figure.prototype.handle_rubberband = function (fig, msg) {\n    var x0 = msg['x0'] / fig.ratio;\n    var y0 = (fig.canvas.height - msg['y0']) / fig.ratio;\n    var x1 = msg['x1'] / fig.ratio;\n    var y1 = (fig.canvas.height - msg['y1']) / fig.ratio;\n    x0 = Math.floor(x0) + 0.5;\n    y0 = Math.floor(y0) + 0.5;\n    x1 = Math.floor(x1) + 0.5;\n    y1 = Math.floor(y1) + 0.5;\n    var min_x = Math.min(x0, x1);\n    var min_y = Math.min(y0, y1);\n    var width = Math.abs(x1 - x0);\n    var height = Math.abs(y1 - y0);\n\n    fig.rubberband_context.clearRect(\n        0,\n        0,\n        fig.canvas.width / fig.ratio,\n        fig.canvas.height / fig.ratio\n    );\n\n    fig.rubberband_context.strokeRect(min_x, min_y, width, height);\n};\n\nmpl.figure.prototype.handle_figure_label = function (fig, msg) {\n    // Updates the figure title.\n    fig.header.textContent = msg['label'];\n};\n\nmpl.figure.prototype.handle_cursor = function (fig, msg) {\n    fig.canvas_div.style.cursor = msg['cursor'];\n};\n\nmpl.figure.prototype.handle_message = function (fig, msg) {\n    fig.message.textContent = msg['message'];\n};\n\nmpl.figure.prototype.handle_draw = function (fig, _msg) {\n    // Request the server to send over a new figure.\n    fig.send_draw_message();\n};\n\nmpl.figure.prototype.handle_image_mode = function (fig, msg) {\n    fig.image_mode = msg['mode'];\n};\n\nmpl.figure.prototype.handle_history_buttons = function (fig, msg) {\n    for (var key in msg) {\n        if (!(key in fig.buttons)) {\n            continue;\n        }\n        fig.buttons[key].disabled = !msg[key];\n        fig.buttons[key].setAttribute('aria-disabled', !msg[key]);\n    }\n};\n\nmpl.figure.prototype.handle_navigate_mode = function (fig, msg) {\n    if (msg['mode'] === 'PAN') {\n        fig.buttons['Pan'].classList.add('active');\n        fig.buttons['Zoom'].classList.remove('active');\n    } else if (msg['mode'] === 'ZOOM') {\n        fig.buttons['Pan'].classList.remove('active');\n        fig.buttons['Zoom'].classList.add('active');\n    } else {\n        fig.buttons['Pan'].classList.remove('active');\n        fig.buttons['Zoom'].classList.remove('active');\n    }\n};\n\nmpl.figure.prototype.updated_canvas_event = function () {\n    // Called whenever the canvas gets updated.\n    this.send_message('ack', {});\n};\n\n// A function to construct a web socket function for onmessage handling.\n// Called in the figure constructor.\nmpl.figure.prototype._make_on_message_function = function (fig) {\n    return function socket_on_message(evt) {\n        if (evt.data instanceof Blob) {\n            var img = evt.data;\n            if (img.type !== 'image/png') {\n                /* FIXME: We get \"Resource interpreted as Image but\n                 * transferred with MIME type text/plain:\" errors on\n                 * Chrome.  But how to set the MIME type?  It doesn't seem\n                 * to be part of the websocket stream */\n                img.type = 'image/png';\n            }\n\n            /* Free the memory for the previous frames */\n            if (fig.imageObj.src) {\n                (window.URL || window.webkitURL).revokeObjectURL(\n                    fig.imageObj.src\n                );\n            }\n\n            fig.imageObj.src = (window.URL || window.webkitURL).createObjectURL(\n                img\n            );\n            fig.updated_canvas_event();\n            fig.waiting = false;\n            return;\n        } else if (\n            typeof evt.data === 'string' &&\n            evt.data.slice(0, 21) === 'data:image/png;base64'\n        ) {\n            fig.imageObj.src = evt.data;\n            fig.updated_canvas_event();\n            fig.waiting = false;\n            return;\n        }\n\n        var msg = JSON.parse(evt.data);\n        var msg_type = msg['type'];\n\n        // Call the  \"handle_{type}\" callback, which takes\n        // the figure and JSON message as its only arguments.\n        try {\n            var callback = fig['handle_' + msg_type];\n        } catch (e) {\n            console.log(\n                \"No handler for the '%s' message type: \",\n                msg_type,\n                msg\n            );\n            return;\n        }\n\n        if (callback) {\n            try {\n                // console.log(\"Handling '%s' message: \", msg_type, msg);\n                callback(fig, msg);\n            } catch (e) {\n                console.log(\n                    \"Exception inside the 'handler_%s' callback:\",\n                    msg_type,\n                    e,\n                    e.stack,\n                    msg\n                );\n            }\n        }\n    };\n};\n\nfunction getModifiers(event) {\n    var mods = [];\n    if (event.ctrlKey) {\n        mods.push('ctrl');\n    }\n    if (event.altKey) {\n        mods.push('alt');\n    }\n    if (event.shiftKey) {\n        mods.push('shift');\n    }\n    if (event.metaKey) {\n        mods.push('meta');\n    }\n    return mods;\n}\n\n/*\n * return a copy of an object with only non-object keys\n * we need this to avoid circular references\n * https://stackoverflow.com/a/24161582/3208463\n */\nfunction simpleKeys(original) {\n    return Object.keys(original).reduce(function (obj, key) {\n        if (typeof original[key] !== 'object') {\n            obj[key] = original[key];\n        }\n        return obj;\n    }, {});\n}\n\nmpl.figure.prototype.mouse_event = function (event, name) {\n    if (name === 'button_press') {\n        this.canvas.focus();\n        this.canvas_div.focus();\n    }\n\n    // from https://stackoverflow.com/q/1114465\n    var boundingRect = this.canvas.getBoundingClientRect();\n    var x = (event.clientX - boundingRect.left) * this.ratio;\n    var y = (event.clientY - boundingRect.top) * this.ratio;\n\n    this.send_message(name, {\n        x: x,\n        y: y,\n        button: event.button,\n        step: event.step,\n        buttons: event.buttons,\n        modifiers: getModifiers(event),\n        guiEvent: simpleKeys(event),\n    });\n\n    return false;\n};\n\nmpl.figure.prototype._key_event_extra = function (_event, _name) {\n    // Handle any extra behaviour associated with a key event\n};\n\nmpl.figure.prototype.key_event = function (event, name) {\n    // Prevent repeat events\n    if (name === 'key_press') {\n        if (event.key === this._key) {\n            return;\n        } else {\n            this._key = event.key;\n        }\n    }\n    if (name === 'key_release') {\n        this._key = null;\n    }\n\n    var value = '';\n    if (event.ctrlKey && event.key !== 'Control') {\n        value += 'ctrl+';\n    }\n    else if (event.altKey && event.key !== 'Alt') {\n        value += 'alt+';\n    }\n    else if (event.shiftKey && event.key !== 'Shift') {\n        value += 'shift+';\n    }\n\n    value += 'k' + event.key;\n\n    this._key_event_extra(event, name);\n\n    this.send_message(name, { key: value, guiEvent: simpleKeys(event) });\n    return false;\n};\n\nmpl.figure.prototype.toolbar_button_onclick = function (name) {\n    if (name === 'download') {\n        this.handle_save(this, null);\n    } else {\n        this.send_message('toolbar_button', { name: name });\n    }\n};\n\nmpl.figure.prototype.toolbar_button_onmouseover = function (tooltip) {\n    this.message.textContent = tooltip;\n};\n\n///////////////// REMAINING CONTENT GENERATED BY embed_js.py /////////////////\n// prettier-ignore\nvar _JSXTOOLS_RESIZE_OBSERVER=function(A){var t,i=new WeakMap,n=new WeakMap,a=new WeakMap,r=new WeakMap,o=new Set;function s(e){if(!(this instanceof s))throw new TypeError(\"Constructor requires 'new' operator\");i.set(this,e)}function h(){throw new TypeError(\"Function is not a constructor\")}function c(e,t,i,n){e=0 in arguments?Number(arguments[0]):0,t=1 in arguments?Number(arguments[1]):0,i=2 in arguments?Number(arguments[2]):0,n=3 in arguments?Number(arguments[3]):0,this.right=(this.x=this.left=e)+(this.width=i),this.bottom=(this.y=this.top=t)+(this.height=n),Object.freeze(this)}function d(){t=requestAnimationFrame(d);var s=new WeakMap,p=new Set;o.forEach((function(t){r.get(t).forEach((function(i){var r=t instanceof window.SVGElement,o=a.get(t),d=r?0:parseFloat(o.paddingTop),f=r?0:parseFloat(o.paddingRight),l=r?0:parseFloat(o.paddingBottom),u=r?0:parseFloat(o.paddingLeft),g=r?0:parseFloat(o.borderTopWidth),m=r?0:parseFloat(o.borderRightWidth),w=r?0:parseFloat(o.borderBottomWidth),b=u+f,F=d+l,v=(r?0:parseFloat(o.borderLeftWidth))+m,W=g+w,y=r?0:t.offsetHeight-W-t.clientHeight,E=r?0:t.offsetWidth-v-t.clientWidth,R=b+v,z=F+W,M=r?t.width:parseFloat(o.width)-R-E,O=r?t.height:parseFloat(o.height)-z-y;if(n.has(t)){var k=n.get(t);if(k[0]===M&&k[1]===O)return}n.set(t,[M,O]);var S=Object.create(h.prototype);S.target=t,S.contentRect=new c(u,d,M,O),s.has(i)||(s.set(i,[]),p.add(i)),s.get(i).push(S)}))})),p.forEach((function(e){i.get(e).call(e,s.get(e),e)}))}return s.prototype.observe=function(i){if(i instanceof window.Element){r.has(i)||(r.set(i,new Set),o.add(i),a.set(i,window.getComputedStyle(i)));var n=r.get(i);n.has(this)||n.add(this),cancelAnimationFrame(t),t=requestAnimationFrame(d)}},s.prototype.unobserve=function(i){if(i instanceof window.Element&&r.has(i)){var n=r.get(i);n.has(this)&&(n.delete(this),n.size||(r.delete(i),o.delete(i))),n.size||r.delete(i),o.size||cancelAnimationFrame(t)}},A.DOMRectReadOnly=c,A.ResizeObserver=s,A.ResizeObserverEntry=h,A}; // eslint-disable-line\nmpl.toolbar_items = [[\"Home\", \"Reset original view\", \"fa fa-home\", \"home\"], [\"Back\", \"Back to previous view\", \"fa fa-arrow-left\", \"back\"], [\"Forward\", \"Forward to next view\", \"fa fa-arrow-right\", \"forward\"], [\"\", \"\", \"\", \"\"], [\"Pan\", \"Left button pans, Right button zooms\\nx/y fixes axis, CTRL fixes aspect\", \"fa fa-arrows\", \"pan\"], [\"Zoom\", \"Zoom to rectangle\\nx/y fixes axis\", \"fa fa-square-o\", \"zoom\"], [\"\", \"\", \"\", \"\"], [\"Download\", \"Download plot\", \"fa fa-floppy-o\", \"download\"]];\n\nmpl.extensions = [\"eps\", \"jpeg\", \"pgf\", \"pdf\", \"png\", \"ps\", \"raw\", \"svg\", \"tif\", \"webp\"];\n\nmpl.default_extension = \"png\";/* global mpl */\n\nvar comm_websocket_adapter = function (comm) {\n    // Create a \"websocket\"-like object which calls the given IPython comm\n    // object with the appropriate methods. Currently this is a non binary\n    // socket, so there is still some room for performance tuning.\n    var ws = {};\n\n    ws.binaryType = comm.kernel.ws.binaryType;\n    ws.readyState = comm.kernel.ws.readyState;\n    function updateReadyState(_event) {\n        if (comm.kernel.ws) {\n            ws.readyState = comm.kernel.ws.readyState;\n        } else {\n            ws.readyState = 3; // Closed state.\n        }\n    }\n    comm.kernel.ws.addEventListener('open', updateReadyState);\n    comm.kernel.ws.addEventListener('close', updateReadyState);\n    comm.kernel.ws.addEventListener('error', updateReadyState);\n\n    ws.close = function () {\n        comm.close();\n    };\n    ws.send = function (m) {\n        //console.log('sending', m);\n        comm.send(m);\n    };\n    // Register the callback with on_msg.\n    comm.on_msg(function (msg) {\n        //console.log('receiving', msg['content']['data'], msg);\n        var data = msg['content']['data'];\n        if (data['blob'] !== undefined) {\n            data = {\n                data: new Blob(msg['buffers'], { type: data['blob'] }),\n            };\n        }\n        // Pass the mpl event to the overridden (by mpl) onmessage function.\n        ws.onmessage(data);\n    });\n    return ws;\n};\n\nmpl.mpl_figure_comm = function (comm, msg) {\n    // This is the function which gets called when the mpl process\n    // starts-up an IPython Comm through the \"matplotlib\" channel.\n\n    var id = msg.content.data.id;\n    // Get hold of the div created by the display call when the Comm\n    // socket was opened in Python.\n    var element = document.getElementById(id);\n    var ws_proxy = comm_websocket_adapter(comm);\n\n    function ondownload(figure, _format) {\n        window.open(figure.canvas.toDataURL());\n    }\n\n    var fig = new mpl.figure(id, ws_proxy, ondownload, element);\n\n    // Call onopen now - mpl needs it, as it is assuming we've passed it a real\n    // web socket which is closed, not our websocket->open comm proxy.\n    ws_proxy.onopen();\n\n    fig.parent_element = element;\n    fig.cell_info = mpl.find_output_cell(\"<div id='\" + id + \"'></div>\");\n    if (!fig.cell_info) {\n        console.error('Failed to find cell for figure', id, fig);\n        return;\n    }\n    fig.cell_info[0].output_area.element.on(\n        'cleared',\n        { fig: fig },\n        fig._remove_fig_handler\n    );\n};\n\nmpl.figure.prototype.handle_close = function (fig, msg) {\n    var width = fig.canvas.width / fig.ratio;\n    fig.cell_info[0].output_area.element.off(\n        'cleared',\n        fig._remove_fig_handler\n    );\n    fig.resizeObserverInstance.unobserve(fig.canvas_div);\n\n    // Update the output cell to use the data from the current canvas.\n    fig.push_to_output();\n    var dataURL = fig.canvas.toDataURL();\n    // Re-enable the keyboard manager in IPython - without this line, in FF,\n    // the notebook keyboard shortcuts fail.\n    IPython.keyboard_manager.enable();\n    fig.parent_element.innerHTML =\n        '<img src=\"' + dataURL + '\" width=\"' + width + '\">';\n    fig.close_ws(fig, msg);\n};\n\nmpl.figure.prototype.close_ws = function (fig, msg) {\n    fig.send_message('closing', msg);\n    // fig.ws.close()\n};\n\nmpl.figure.prototype.push_to_output = function (_remove_interactive) {\n    // Turn the data on the canvas into data in the output cell.\n    var width = this.canvas.width / this.ratio;\n    var dataURL = this.canvas.toDataURL();\n    this.cell_info[1]['text/html'] =\n        '<img src=\"' + dataURL + '\" width=\"' + width + '\">';\n};\n\nmpl.figure.prototype.updated_canvas_event = function () {\n    // Tell IPython that the notebook contents must change.\n    IPython.notebook.set_dirty(true);\n    this.send_message('ack', {});\n    var fig = this;\n    // Wait a second, then push the new image to the DOM so\n    // that it is saved nicely (might be nice to debounce this).\n    setTimeout(function () {\n        fig.push_to_output();\n    }, 1000);\n};\n\nmpl.figure.prototype._init_toolbar = function () {\n    var fig = this;\n\n    var toolbar = document.createElement('div');\n    toolbar.classList = 'btn-toolbar';\n    this.root.appendChild(toolbar);\n\n    function on_click_closure(name) {\n        return function (_event) {\n            return fig.toolbar_button_onclick(name);\n        };\n    }\n\n    function on_mouseover_closure(tooltip) {\n        return function (event) {\n            if (!event.currentTarget.disabled) {\n                return fig.toolbar_button_onmouseover(tooltip);\n            }\n        };\n    }\n\n    fig.buttons = {};\n    var buttonGroup = document.createElement('div');\n    buttonGroup.classList = 'btn-group';\n    var button;\n    for (var toolbar_ind in mpl.toolbar_items) {\n        var name = mpl.toolbar_items[toolbar_ind][0];\n        var tooltip = mpl.toolbar_items[toolbar_ind][1];\n        var image = mpl.toolbar_items[toolbar_ind][2];\n        var method_name = mpl.toolbar_items[toolbar_ind][3];\n\n        if (!name) {\n            /* Instead of a spacer, we start a new button group. */\n            if (buttonGroup.hasChildNodes()) {\n                toolbar.appendChild(buttonGroup);\n            }\n            buttonGroup = document.createElement('div');\n            buttonGroup.classList = 'btn-group';\n            continue;\n        }\n\n        button = fig.buttons[name] = document.createElement('button');\n        button.classList = 'btn btn-default';\n        button.href = '#';\n        button.title = name;\n        button.innerHTML = '<i class=\"fa ' + image + ' fa-lg\"></i>';\n        button.addEventListener('click', on_click_closure(method_name));\n        button.addEventListener('mouseover', on_mouseover_closure(tooltip));\n        buttonGroup.appendChild(button);\n    }\n\n    if (buttonGroup.hasChildNodes()) {\n        toolbar.appendChild(buttonGroup);\n    }\n\n    // Add the status bar.\n    var status_bar = document.createElement('span');\n    status_bar.classList = 'mpl-message pull-right';\n    toolbar.appendChild(status_bar);\n    this.message = status_bar;\n\n    // Add the close button to the window.\n    var buttongrp = document.createElement('div');\n    buttongrp.classList = 'btn-group inline pull-right';\n    button = document.createElement('button');\n    button.classList = 'btn btn-mini btn-primary';\n    button.href = '#';\n    button.title = 'Stop Interaction';\n    button.innerHTML = '<i class=\"fa fa-power-off icon-remove icon-large\"></i>';\n    button.addEventListener('click', function (_evt) {\n        fig.handle_close(fig, {});\n    });\n    button.addEventListener(\n        'mouseover',\n        on_mouseover_closure('Stop Interaction')\n    );\n    buttongrp.appendChild(button);\n    var titlebar = this.root.querySelector('.ui-dialog-titlebar');\n    titlebar.insertBefore(buttongrp, titlebar.firstChild);\n};\n\nmpl.figure.prototype._remove_fig_handler = function (event) {\n    var fig = event.data.fig;\n    if (event.target !== this) {\n        // Ignore bubbled events from children.\n        return;\n    }\n    fig.close_ws(fig, {});\n};\n\nmpl.figure.prototype._root_extra_style = function (el) {\n    el.style.boxSizing = 'content-box'; // override notebook setting of border-box.\n};\n\nmpl.figure.prototype._canvas_extra_style = function (el) {\n    // this is important to make the div 'focusable\n    el.setAttribute('tabindex', 0);\n    // reach out to IPython and tell the keyboard manager to turn it's self\n    // off when our div gets focus\n\n    // location in version 3\n    if (IPython.notebook.keyboard_manager) {\n        IPython.notebook.keyboard_manager.register_events(el);\n    } else {\n        // location in version 2\n        IPython.keyboard_manager.register_events(el);\n    }\n};\n\nmpl.figure.prototype._key_event_extra = function (event, _name) {\n    // Check for shift+enter\n    if (event.shiftKey && event.which === 13) {\n        this.canvas_div.blur();\n        // select the cell after this one\n        var index = IPython.notebook.find_cell_index(this.cell_info[0]);\n        IPython.notebook.select(index + 1);\n    }\n};\n\nmpl.figure.prototype.handle_save = function (fig, _msg) {\n    fig.ondownload(fig, null);\n};\n\nmpl.find_output_cell = function (html_output) {\n    // Return the cell and output element which can be found *uniquely* in the notebook.\n    // Note - this is a bit hacky, but it is done because the \"notebook_saving.Notebook\"\n    // IPython event is triggered only after the cells have been serialised, which for\n    // our purposes (turning an active figure into a static one), is too late.\n    var cells = IPython.notebook.get_cells();\n    var ncells = cells.length;\n    for (var i = 0; i < ncells; i++) {\n        var cell = cells[i];\n        if (cell.cell_type === 'code') {\n            for (var j = 0; j < cell.output_area.outputs.length; j++) {\n                var data = cell.output_area.outputs[j];\n                if (data.data) {\n                    // IPython >= 3 moved mimebundle to data attribute of output\n                    data = data.data;\n                }\n                if (data['text/html'] === html_output) {\n                    return [cell, data, j];\n                }\n            }\n        }\n    }\n};\n\n// Register the function which deals with the matplotlib target/channel.\n// The kernel may be null if the page has been refreshed.\nif (IPython.notebook.kernel !== null) {\n    IPython.notebook.kernel.comm_manager.register_target(\n        'matplotlib',\n        mpl.mpl_figure_comm\n    );\n}\n",
      "text/plain": [
       "<IPython.core.display.Javascript object>"
      ]
     },
     "metadata": {},
     "output_type": "display_data"
    },
    {
     "data": {
      "text/html": [
       "<div id='50a6041a-08e1-44d5-9ddc-0331bdcd81e5'></div>"
      ],
      "text/plain": [
       "<IPython.core.display.HTML object>"
      ]
     },
     "metadata": {},
     "output_type": "display_data"
    }
   ],
   "source": [
    "import numpy as np\n",
    "import matplotlib.pyplot as plt\n",
    "from numpy import sin, cos, radians\n",
    "from mpl_toolkits.mplot3d import Axes3D\n",
    "# %matplotlib notebook\n",
    "\n",
    "# Vector coordinates\n",
    "v = np.array([[1,0,0],[0,1,0],[0,0,1]])\n",
    "\n",
    "# Origin coordinates\n",
    "origin = np.array([[0,0,0],[0,0,0],[0,0,0]])\n",
    "\n",
    "# Traslation vector\n",
    "translation = np.array([[1],[1],[1]])\n",
    "\n",
    "# Apply transformation\n",
    "apply_rotation_translation(v,origin,0,0,180,translation,[\"x\",\"y\",\"z\"],[-3,3,-3,3,-3,3])"
   ]
  },
  {
   "cell_type": "markdown",
   "metadata": {},
   "source": [
    "<font color='blue'>**Expected output:**  </font>\n",
    "\n",
    "<img src=\"./images/example_transformation_2.png\" width=\"500\" align=\"left\"/>\n",
    "<img src=\"./images/blank.png\" width=\"100\" align=\"rigth\"/>"
   ]
  },
  {
   "cell_type": "markdown",
   "metadata": {},
   "source": [
    "This is strongly related to a camera system in a videogame. For example, it could represent a movement of the player where they jump and rotate. That is, we are moving the `CAMERA` reference system within the `WORLD` one. Next, **you are asked to** simulate the following camera movements in such a context, using the previously defined method.\n",
    "\n",
    "- Look to the **right 90 degrees** and walk **forward 2 units**\n"
   ]
  },
  {
   "cell_type": "code",
   "execution_count": null,
   "metadata": {},
   "outputs": [],
   "source": [
    "# Vector coordinates\n",
    "\n",
    "# Origin coordinates\n",
    "\n",
    "# Traslation vector\n",
    "\n",
    "# Apply transformation\n"
   ]
  },
  {
   "cell_type": "markdown",
   "metadata": {},
   "source": [
    "- While you are walking (**two units forward**), jump (our character can **jump one unit of height**), and look **45 degrees to the floor** (e.g. jumping an obstacle)."
   ]
  },
  {
   "cell_type": "code",
   "execution_count": null,
   "metadata": {},
   "outputs": [],
   "source": [
    "# Write your code here!\n",
    "\n",
    "# Vector coordinates\n",
    "\n",
    "# Origin coordinates\n",
    "\n",
    "# Traslation vector\n",
    "\n",
    "# Apply transformation"
   ]
  },
  {
   "cell_type": "markdown",
   "metadata": {},
   "source": [
    "## 8.1.2 One step further: Homogenous transformations\n",
    "\n",
    "Homogenous (also called projective) transformations are linear transformations (i.e. matrix multiplications) **between homogenous coordinates** (vectors). Such coordinates are obtained from Cartesian (inhomogenous) vectors by **extenging them with a non-negative number** (for convenience 1).\n",
    "\n",
    "We are going to explain homogenous transformations using a 3D space, **this is generalizable to any other dimension**.\n",
    "\n",
    "A 3D vector in **inhomogenous coordinates** looks like:\n",
    "\n",
    "$$X = \\begin{bmatrix} X \\\\ Y \\\\ Z \\end{bmatrix} \\in \\mathbb{R}^3$$\n",
    "\n",
    "while the same vector in **homogenous coordinates** has the form:\n",
    "\n",
    "$$\\tilde{X} = \\begin{bmatrix} X \\\\ Y \\\\ Z \\\\ 1 \\end{bmatrix} \\equiv \\begin{bmatrix} \\lambda X \\\\ \\lambda Y \\\\ \\lambda Z \\\\ \\lambda \\end{bmatrix} \\in \\mathbb{R}^4$$\n",
    "\n",
    "We can go back by dividing the three first coordinates by the fourth:$\\\\[5pt]$\n",
    "\n",
    "$$\\tilde{X} = \\begin{bmatrix} \\lambda X \\\\ \\lambda Y \\\\ \\lambda Z \\\\ \\lambda \\end{bmatrix} \\Rightarrow X = \\begin{bmatrix} X/\\lambda \\\\ Y/\\lambda \\\\ Z/\\lambda \\end{bmatrix}$$\n",
    "\n",
    "As a consecuence of $\\lambda$, **any transformation in homogenous coordinates holds for any scaled matrix**:\n",
    "  \n",
    "$$\n",
    "\\begin{bmatrix} x_1' \\\\ x_2' \\\\ x_3' \\\\ x_4' \\end{bmatrix} \n",
    "= \n",
    "\\begin{bmatrix} p_{11} & p_{12} & p_{13} & p_{14} \\\\ p_{21} & p_{22} & p_{23} & p_{24} \\\\ p_{31} & p_{32} & p_{33} & p_{34} \\\\ p_{41} & p_{42} & p_{43} & p_{44} \\end{bmatrix} \n",
    "\\begin{bmatrix} \\lambda x_1 \\\\ \\lambda x_2 \\\\ \\lambda x_3 \\\\ \\lambda \\end{bmatrix} \n",
    "= \n",
    "\\lambda \n",
    "\\begin{bmatrix} p_{11} & p_{12} & p_{13} & p_{14} \\\\ p_{21} & p_{22} & p_{23} & p_{24} \\\\ p_{31} & p_{32} & p_{33} & p_{34} \\\\ p_{41} & p_{42} & p_{43} & p_{44} \\end{bmatrix}\n",
    "\\begin{bmatrix} x_1 \\\\ x_2 \\\\ x_3 \\\\ 1 \n",
    "\\end{bmatrix} \n",
    "$$\n",
    "\n",
    "Then, the following transfomations are equivalent:\n",
    "\n",
    "$$\n",
    "\\begin{bmatrix} 1 & -3 & 2 & 5 \\\\ 4 & 2 & 1 & 2 \\\\ 4 & -1 & 0 & 2 \\\\ -6 & 2 & 1 & 2 \n",
    "\\end{bmatrix} \n",
    "\\equiv \n",
    "\\lambda \n",
    "\\begin{bmatrix} 1 & -3 & 2 & 5 \\\\ 4 & 2 & 1 & 2 \\\\ 4 & -1 & 0 & 2 \\\\ -6 & 2 & 1 & 2 \n",
    "\\end{bmatrix}\n",
    "$$\n",
    "\n",
    "**This indetermination is typically handled by fixing one entry of the matrix**, (e.g. $p_{44} = 1$). Also, these matrices must be non-singular (Rank = 4)."
   ]
  },
  {
   "cell_type": "markdown",
   "metadata": {},
   "source": [
    "### Why do we want this?\n",
    "\n",
    "Now that we know how homogenous coordinates and homogenous transformations works, it's time for understanding **why this is interesting**.\n",
    "\n",
    "For now, we were performing complete transformations (rotations and translations) by using a rotation matrix and adding a translation vector to the rotated points ($p' = \\mathbf{R}p + \\mathbf{t}$).\n",
    "\n",
    "The problem of this transformation is that the **concatenation of transformations** when a sequence of transformations has to be done becomes a mess:\n",
    "\n",
    "$\\hspace{2cm} p' = \\mathbf{R}_1p+\\mathbf{t}_1 \\\\ \\hspace{2cm} p'' = \\mathbf{R}_2p' + \\mathbf{t}_2 = \\mathbf{R}_2(\\mathbf{R}_1p+\\mathbf{t}_1) + \\mathbf{t}_2 = \\mathbf{R}_2\\mathbf{R}_1p + \\mathbf{R}_2\\mathbf{t}_1 + \\mathbf{t}_2$\n",
    "\n",
    "In the context of our problem, every time we move the camera we have to concatenate a new transformation. Imagine this in a first-person videogame, where a transformation of the coordinate system is needed in every frame. In just a second more than 60 concatenations should be computed.\n",
    "\n",
    "**What happens if we use homogenous coordinates?**\n",
    "\n",
    "We can express a transformation consisting of a rotation + translation using only a matrix multiplication:\n",
    "\n",
    "$$ \\tilde{p}' = \\mathbf{T}_1\\tilde{p} \\Rightarrow \\begin{bmatrix} X' \\\\ Y' \\\\ Z' \\\\ 1 \\end{bmatrix} = \\begin{bmatrix} r_{11} & r_{12} & r_{13} & t_x\\\\ r_{21} & r_{22} & r_{23} & t_y \\\\ r_{31} & r_{32} & r_{33} & t_z \\\\ 0 & 0 & 0 & 1 \\end{bmatrix} \\begin{bmatrix} X \\\\ Y \\\\ Z \\\\ 1 \\end{bmatrix} = \\begin{bmatrix} r_{11}X + r_{12}Y + r_{13}Z + t_x \\\\ r_{21}X + r_{22}Y + r_{23}Z + t_y \\\\ r_{31}X + r_{32}Y + r_{33}Z + t_z \\\\ 0X + 0Y + 0Z + 1 \\end{bmatrix} = \\begin{bmatrix} r_{11}X + r_{12}Y + r_{13}Z \\\\ r_{21}X + r_{22}Y + r_{23}Z \\\\ r_{31}X + r_{32}Y + r_{33}Z \\\\ 1 \\end{bmatrix} +  \\begin{bmatrix} t_x \\\\ t_y \\\\ t_z \\\\ 0 \\end{bmatrix}$$\n",
    "\n",
    "Note that the 3$\\times$3 left-top submatrix of the $\\mathbf{T}_1$ matrix is a rotation matrix while the last column contains the desired translation. \n",
    "This is the main reason for using homogeneous coordinates, look **how concatenation is applied now!**\n",
    "\n",
    "$\\hspace{02cm}  \\tilde{p}' = \\mathbf{T}_1\\tilde{p} \\\\\n",
    " \\hspace{2cm}  \\tilde{p}'' = \\mathbf{T}_2\\tilde{p}' = \\mathbf{T}_2\\mathbf{T}_1\\tilde{p}$\n",
    " \n",
    "**Concatenation becomes much easier**, being only consecutive matrix multiplications (remember that, nowadays, matrix multiplications are very fast using GPUs)."
   ]
  },
  {
   "cell_type": "markdown",
   "metadata": {},
   "source": [
    "**Let's play a bit with homogeneous coordinates**. We are going to apply a homogenous transformation to a 3D object (set of 3D-points). For this, we have defined `data`$\\in \\mathbb{R}^4$, a **matrix containing more than 3k points in homogenous coordinates**:"
   ]
  },
  {
   "cell_type": "code",
   "execution_count": null,
   "metadata": {},
   "outputs": [],
   "source": [
    "# Load data\n",
    "data = np.load(\"./data/data.npy\")\n",
    "\n",
    "# Create figure\n",
    "fig = plt.figure()\n",
    "\n",
    "# Prepare figure for 3D data\n",
    "ax = fig.gca(projection='3d')\n",
    "\n",
    "# Name axes\n",
    "ax.set_xlabel('X axis')\n",
    "ax.set_ylabel('Y axis')\n",
    "ax.set_zlabel('Z axis')\n",
    "\n",
    "# Plot points\n",
    "ax.scatter(data[0,:], data[1,:], data[2,:])\n",
    "\n",
    "fig.show()"
   ]
  },
  {
   "cell_type": "markdown",
   "metadata": {},
   "source": [
    "### **<span style=\"color:green\"><b><i>ASSIGNMENT 7: Homogeneous transformations for the win</i></b></span>**\n",
    "\n",
    "Now, create a new method called `apply_homogeneous_transformation()` that builds a homogeneous matrix from some *yaw*, *pitch* and *roll* values as well as a translation vector and applies it to the input data matrix `data`. *Note that we are not transforming vectors, but points. For plotting 3D points use [`scatter()`](https://matplotlib.org/mpl_toolkits/mplot3d/tutorial.html) instead of quiver.*"
   ]
  },
  {
   "cell_type": "code",
   "execution_count": null,
   "metadata": {},
   "outputs": [],
   "source": [
    "# Assignment 7\n",
    "def apply_homogeneous_transformation(data, yaw, pitch, roll, translation):\n",
    "    \"\"\" Apply a linear transformation to a set of 3D-vectors and plot them\n",
    "        \n",
    "        Args:\n",
    "            data: Input set of points to transform\n",
    "            yaw: Degrees to rotate the coordinate system around the 'Z' axis \n",
    "            pitch: Degrees to rotate the coordinate system around the 'Y' axis \n",
    "            roll: Degrees to rotate the coordinate system around the 'X' axis \n",
    "            translation: Column vector containing the translation for each axis\n",
    "    \"\"\"  \n",
    "    \n",
    "    # Transform to radians\n",
    "    \n",
    "    \n",
    "    # Construct rotation matrices\n",
    "    \n",
    "    \n",
    "    # Combine rotation matrices\n",
    "    \n",
    "    \n",
    "    # Create homogenous transformation matrix\n",
    "    \n",
    "    \n",
    "    # Create figure\n",
    "    \n",
    "\n",
    "    # Prepare figure for 3D data\n",
    "    \n",
    "\n",
    "    # Name axes\n",
    "    \n",
    "\n",
    "    # Plot points\n",
    "    "
   ]
  },
  {
   "cell_type": "markdown",
   "metadata": {},
   "source": [
    "Now apply the following transformation to the object previously loaded:\n",
    "\n",
    "- Yaw rotation: 45 degrees\n",
    "- Pitch rotation: -60 degrees\n",
    "- Roll rotation: 20 degrees\n",
    "- Translation:\n",
    "    - X-axis: 20 units \n",
    "    - Y-axis: 20 units\n",
    "    - Z-axis: 40 units\n",
    "\n",
    "Remember that this have to be done using a homogenous transformation (one unique matrix multiplication)."
   ]
  },
  {
   "cell_type": "code",
   "execution_count": null,
   "metadata": {},
   "outputs": [],
   "source": [
    "# Load data\n",
    "data = np.load(\"./data/data.npy\")\n",
    "\n",
    "# Apply transformation\n"
   ]
  },
  {
   "cell_type": "markdown",
   "metadata": {},
   "source": [
    "<font color='blue'>**Expected output:**  </font>\n",
    "\n",
    "<img src=\"./images/example_transformation_3b.png\" width=\"500\" align=\"left\"/>\n",
    "<img src=\"./images/blank.png\" width=\"100\" align=\"rigth\"/>"
   ]
  },
  {
   "cell_type": "markdown",
   "metadata": {},
   "source": [
    "By doing these transformations, our graphic engine could represent moving objects in the `WORLD` when the player is still (e.g. flying birds, cars, other players, etc.). "
   ]
  },
  {
   "cell_type": "markdown",
   "metadata": {},
   "source": [
    "### **<span style=\"color:green\"><b><i>ASSIGNMENT 8: How the player sees the world</i></b></span>**\n",
    "\n",
    "One final example, consider the following image, in where our character Joel is looking at a dystopian, post-apocalyptic scenario. \n",
    "\n",
    "<img src=\"./images/tlou.png\" width=\"1200\" align=\"center\"/>"
   ]
  },
  {
   "cell_type": "markdown",
   "metadata": {},
   "source": [
    "The `WORLD` reference system is displayed in orange and labeled with {$\\mathbf{W}$} while the reference system of the character's view is displayed in red and labeled as {$\\mathbf{C}$}. We know that the position and orientation of {$\\mathbf{C}$} w.r.t. {$\\mathbf{W}$} is given by a *yaw* angle of -45º, a *roll* angle of -90 and a translation of \\[0.0,-4.0,1.2\\] meters in \\[$x$,$y$,$z$\\] axes, respectively. Knowing that the coordinates of $p$ in the world are \\[30.0,1.2,0.5\\] meters, could you compute what are its coordinates w.r.t our character's point of view? As we will see in future notebooks, knowing such coordinates is vital to get the position of $p$ in the image that Joel would see if this game were in first-person (fortunately it's not!)."
   ]
  },
  {
   "cell_type": "code",
   "execution_count": null,
   "metadata": {},
   "outputs": [],
   "source": [
    "# Assignment 8\n",
    "# Write your code here!\n",
    "\n",
    "# Transform to radians\n",
    "\n",
    "\n",
    "# Construct rotation matrices\n",
    "\n",
    "\n",
    "# Combine rotation matrices\n",
    "\n",
    "\n",
    "# Create homogenous transformation matrix\n"
   ]
  },
  {
   "cell_type": "markdown",
   "metadata": {},
   "source": [
    "<font color='blue'>**Expected output:**  </font> \n",
    "\n",
    "    [[17.67766953]\n",
    "     [ 0.7       ]\n",
    "     [24.74873734]\n",
    "     [ 1.        ]]"
   ]
  },
  {
   "cell_type": "markdown",
   "metadata": {},
   "source": [
    "## Conclusion\n",
    "\n",
    "Awesome!\n",
    "\n",
    "This was an introductory notebook covering some mathematical tools that are the building blocks for image formation. We made an excellent work trying to master this maths. We have learned:\n",
    "\n",
    "- How to plot vectors and products between them.\n",
    "- The ideas behind the linear transformation of vectors.\n",
    "- How to rotate and translate points or vectors using Cartesian coordinates.\n",
    "- The principles of homogeneous coordinates.\n",
    "- How to rotate and translate points or vectors using homogeneous coordinates."
   ]
  }
 ],
 "metadata": {
  "kernelspec": {
   "display_name": "aida2154_python_env",
   "language": "python",
   "name": "python3"
  },
  "language_info": {
   "codemirror_mode": {
    "name": "ipython",
    "version": 3
   },
   "file_extension": ".py",
   "mimetype": "text/x-python",
   "name": "python",
   "nbconvert_exporter": "python",
   "pygments_lexer": "ipython3",
   "version": "3.13.5"
  },
  "varInspector": {
   "cols": {
    "lenName": 16,
    "lenType": 16,
    "lenVar": 40
   },
   "kernels_config": {
    "python": {
     "delete_cmd_postfix": "",
     "delete_cmd_prefix": "del ",
     "library": "var_list.py",
     "varRefreshCmd": "print(var_dic_list())"
    },
    "r": {
     "delete_cmd_postfix": ") ",
     "delete_cmd_prefix": "rm(",
     "library": "var_list.r",
     "varRefreshCmd": "cat(var_dic_list()) "
    }
   },
   "types_to_exclude": [
    "module",
    "function",
    "builtin_function_or_method",
    "instance",
    "_Feature"
   ],
   "window_display": false
  }
 },
 "nbformat": 4,
 "nbformat_minor": 4
}
