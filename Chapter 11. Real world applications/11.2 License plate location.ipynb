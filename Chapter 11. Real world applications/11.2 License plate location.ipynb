{
 "cells": [
  {
   "cell_type": "markdown",
   "metadata": {},
   "source": [
    "# 11.2 License plate location\n",
    "\n",
    "License plate location is an important stage in vehicle license plate recognition for automated transport system. It's responsible for finding and isolating the plate on the picture:\n",
    "\n",
    "<img src=\"./images/location.png\" width=\"850\" />\n",
    "\n",
    "In this practise you will develop a basic plate detector, which will be able to detect and segment a car plate in a photo. You will need to understand how edge detection (chapter 03), region description (chapter 06) and homographies (chapter 08) work in order to complete this notebook."
   ]
  },
  {
   "cell_type": "code",
   "execution_count": null,
   "metadata": {},
   "outputs": [],
   "source": [
    "import cv2\n",
    "import numpy as np\n",
    "import matplotlib.pyplot as plt\n",
    "import matplotlib\n",
    "matplotlib.rcParams['figure.figsize'] = (16.0, 16.0)\n",
    "images_path = './images/'"
   ]
  },
  {
   "cell_type": "markdown",
   "metadata": {},
   "source": [
    "### <span style=\"color:green\"><b><i>ASSIGNMENT 1: Developing our own car plate detector</i></b></span>\n",
    "\n",
    "Our task in this notebook is constructing a car plate detector that have to be able to detect and segment appearing plates in images. Next, the main steps of a plate detector are commented briefly, but all of them have been previously implemented in other notebooks. \n",
    "\n",
    "# Steps for detecting a plate\n",
    "\n",
    "We can reduce this problem to a set of subproblems that we actually solved in previous notebooks:\n",
    "\n",
    "**Detecting the edges of the image**\n",
    "\n",
    "We can use Canny, LoG, Sobel, ... to obtain an edge image that will be needed for studying the shapes.\n",
    "\n",
    "**Finding contours in edge image**\n",
    "\n",
    "Our objective in to find the biggest polygon with 4 corners (rectangle in perspective) in the image, that will be our main candidate to be the actual plate. For this, you will have to **find the contours** in the edge image, and then **sort them by its area**.\n",
    "\n",
    "**Obtaining the coordinates of the plate**\n",
    "\n",
    "Now that we have a sorted list of the biggest contours in the image, we have iterate it checking if their approximate polygon (this can be found using [cv2.approxPolyDP](https://docs.opencv.org/4.2.0/d3/dc0/group__imgproc__shape.html#ga0012a5fdaea70b8a9970165d98722b4c)) have 4 corners, the plate will usually be that polygon.\n",
    "\n",
    "**(Optional) Improve the corners detection**\n",
    "\n",
    "We can find the sub-pixel accurate location of plate corners, improving the accuracy of the location of the corners. This can be done using [cv2.cornerSubPix](https://docs.opencv.org/4.2.0/dd/d1a/group__imgproc__feature.html#ga354e0d7c86d0d9da75de9b9701a9a87e).\n",
    "\n",
    "**Removing the perspective of the plate**\n",
    "\n",
    "We usually want the plate image without perspective distortion, as they will be used for character recognition. For this, you just need to apply an homograpy, obtaining the final image."
   ]
  },
  {
   "cell_type": "code",
   "execution_count": null,
   "metadata": {},
   "outputs": [],
   "source": [
    "# Read image\n",
    "\n",
    "# Convert it to RGB and grayscale\n",
    "\n",
    "# Apply Gaussian filter\n",
    "\n",
    "# Show it\n"
   ]
  },
  {
   "cell_type": "code",
   "execution_count": null,
   "metadata": {},
   "outputs": [],
   "source": [
    "# Apply Canny edge detector\n",
    "\n",
    "# Show results\n"
   ]
  },
  {
   "cell_type": "code",
   "execution_count": null,
   "metadata": {},
   "outputs": [],
   "source": [
    "# Find contours in edge image\n",
    "\n",
    "\n",
    "# Sort contours by area\n",
    "\n",
    "\n",
    "# For each contour\n",
    "\n",
    "    # Approximate polygons from shapes\n",
    "    \n",
    "    # Check if it is a rectangle\n",
    "    \n",
    "        # Keep the biggest (first) rectangle\n",
    "        \n",
    "        \n",
    "# Draw selected contour\n",
    "\n",
    "# Show results\n"
   ]
  },
  {
   "cell_type": "code",
   "execution_count": null,
   "metadata": {},
   "outputs": [],
   "source": [
    "# Calculate Homography\n",
    "\n",
    "\n",
    "# Warp source image to destination based on homography\n",
    "\n",
    "\n",
    "# Show image without perspective\n"
   ]
  },
  {
   "cell_type": "code",
   "execution_count": null,
   "metadata": {},
   "outputs": [],
   "source": [
    "# Find the sub-pixel accurate location of plate corners\n",
    "\n",
    "\n",
    "# Calculate Homography\n",
    "\n",
    "\n",
    "# Warp source image to destination based on homography\n",
    "\n",
    "\n",
    "# Show image without perspective\n"
   ]
  }
 ],
 "metadata": {
  "kernelspec": {
   "display_name": "aida2154_python_env",
   "language": "python",
   "name": "python3"
  },
  "language_info": {
   "codemirror_mode": {
    "name": "ipython",
    "version": 3
   },
   "file_extension": ".py",
   "mimetype": "text/x-python",
   "name": "python",
   "nbconvert_exporter": "python",
   "pygments_lexer": "ipython3",
   "version": "3.13.5"
  },
  "varInspector": {
   "cols": {
    "lenName": 16,
    "lenType": 16,
    "lenVar": 40
   },
   "kernels_config": {
    "python": {
     "delete_cmd_postfix": "",
     "delete_cmd_prefix": "del ",
     "library": "var_list.py",
     "varRefreshCmd": "print(var_dic_list())"
    },
    "r": {
     "delete_cmd_postfix": ") ",
     "delete_cmd_prefix": "rm(",
     "library": "var_list.r",
     "varRefreshCmd": "cat(var_dic_list()) "
    }
   },
   "types_to_exclude": [
    "module",
    "function",
    "builtin_function_or_method",
    "instance",
    "_Feature"
   ],
   "window_display": false
  }
 },
 "nbformat": 4,
 "nbformat_minor": 4
}
